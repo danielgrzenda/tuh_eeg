{
 "cells": [
  {
   "cell_type": "markdown",
   "metadata": {},
   "source": [
    "# Magic, Imports, and Versions"
   ]
  },
  {
   "cell_type": "code",
   "execution_count": 1,
   "metadata": {},
   "outputs": [],
   "source": [
    "%reload_ext autoreload\n",
    "%autoreload 2\n",
    "%matplotlib inline"
   ]
  },
  {
   "cell_type": "code",
   "execution_count": 2,
   "metadata": {},
   "outputs": [],
   "source": [
    "from pathlib import Path\n",
    "from subprocess import call\n",
    "import sys\n",
    "import os\n",
    "import typing\n",
    "import urllib"
   ]
  },
  {
   "cell_type": "code",
   "execution_count": 3,
   "metadata": {},
   "outputs": [
    {
     "name": "stdout",
     "output_type": "stream",
     "text": [
      "__Python VERSION: 3.7.3 (default, Mar 27 2019, 22:11:17) \n",
      "[GCC 7.3.0]\n",
      "Pytorch Not Installed\n",
      "fastai Not Installed\n",
      "__CUDA VERSION\n",
      "nvcc: NVIDIA (R) Cuda compiler driver\n",
      "Copyright (c) 2005-2018 NVIDIA Corporation\n",
      "Built on Sat_Aug_25_21:08:01_CDT_2018\n",
      "Cuda compilation tools, release 10.0, V10.0.130\n",
      "__Devices\n",
      "No GPUs Found\n"
     ]
    }
   ],
   "source": [
    "print(f'__Python VERSION: {sys.version}')\n",
    "\n",
    "try:\n",
    "    print(f'__pyTorch VERSION: {torch.__version__}')\n",
    "    PYTORCH = True\n",
    "except: \n",
    "    print(\"Pytorch Not Installed\")\n",
    "    PYTORCH = False\n",
    "\n",
    "try:\n",
    "    print(f'__fastai VERSION: {fastai.__version__}')\n",
    "except:\n",
    "    print(\"fastai Not Installed\")\n",
    "    \n",
    "print('__CUDA VERSION')\n",
    "\n",
    "! nvcc --version\n",
    "\n",
    "if PYTORCH:\n",
    "    print(f'__CUDNN VERSION: {torch.backends.cudnn.version()}')\n",
    "    print(f'__Number CUDA Devices: {torch.cuda.device_count()}')\n",
    "    \n",
    "print(f'__Devices')\n",
    "\n",
    "try:\n",
    "    call([\"nvidia-smi\", \"--format=csv\", \"--query-gpu=index,name,driver_version,memory.total,memory.used,memory.free\"])\n",
    "    print(f'Active CUDA Device: GPU {torch.cuda.current_device()}')\n",
    "\n",
    "    print (f'Available devices: {torch.cuda.device_count()}')\n",
    "    print (f'Current cuda device {torch.cuda.current_device()}')\n",
    "except:\n",
    "    print(\"No GPUs Found\")"
   ]
  },
  {
   "cell_type": "code",
   "execution_count": 4,
   "metadata": {},
   "outputs": [],
   "source": [
    "PathOrStr = typing.Union[Path,str]"
   ]
  },
  {
   "cell_type": "markdown",
   "metadata": {},
   "source": [
    "# Build Data Dir"
   ]
  },
  {
   "cell_type": "code",
   "execution_count": 5,
   "metadata": {},
   "outputs": [],
   "source": [
    "def ensure_dir(directory):\n",
    "    if not os.path.exists(directory):\n",
    "        print(f'Creating {directory}')\n",
    "        os.makedirs(directory)"
   ]
  },
  {
   "cell_type": "code",
   "execution_count": 6,
   "metadata": {},
   "outputs": [],
   "source": [
    "here = Path(f'{os.getcwd()}')"
   ]
  },
  {
   "cell_type": "code",
   "execution_count": 7,
   "metadata": {},
   "outputs": [],
   "source": [
    "ensure_dir(here.parent/'data')\n",
    "data_path = here.parent/'data'\n",
    "root_path = here.parent"
   ]
  },
  {
   "cell_type": "code",
   "execution_count": 8,
   "metadata": {},
   "outputs": [],
   "source": [
    "ensure_dir(data_path/'raw')\n",
    "ensure_dir(data_path/'tarred')"
   ]
  },
  {
   "cell_type": "markdown",
   "metadata": {},
   "source": [
    "# Curl to Get the Data "
   ]
  },
  {
   "cell_type": "code",
   "execution_count": 9,
   "metadata": {},
   "outputs": [
    {
     "name": "stdout",
     "output_type": "stream",
     "text": [
      "  % Total    % Received % Xferd  Average Speed   Time    Time     Time  Current\n",
      "                                 Dload  Upload   Total   Spent    Left  Speed\n",
      " 44 5466M   44 2409M    0     0   678k      0  2:17:32  1:00:37  1:16:55  457k466M    2  159M    0     0  1476k      0  1:03:12  0:01:50  1:01:22  679k 1:05:42  854k5466M    6  347M    0     0  1275k      0  1:13:09  0:04:38  1:08:31 1139k1:08:53  761k4:11  444k:22:21  598k2  532k66M   13  712M    0     0   930k      0  1:40:15  0:13:03  1:27:12  360k5466M   13  738M    0     0   878k      0  1:46:11  0:14:20  1:31:51  441k66M   14  784M    0     0   820k      0  1:53:44  0:16:18  1:37:26  338k66M   15  840M    0     0   762k      0  2:02:24  0:18:48  1:43:36  636k466M   15  845M    0     0   759k      0  2:02:48  0:18:59  1:43:49  434k82k466M   16  927M    0     0   713k      0  2:10:42  0:22:10  1:48:32  514k 5466M   17  975M    0     0   697k      0  2:13:45  0:23:51  1:49:54  398k 5466M   17  976M    0     0   696k      0  2:13:51  0:23:54  1:49:57  518k 5466M   18 1002M    0     0   694k      0  2:14:24  0:24:38  1:49:46  572k 5466M   19 1081M    0     0   673k      0  2:18:33  0:27:24  1:51:09  578k5466M   20 1131M    0     0   661k      0  2:21:00  0:29:10  1:51:50  434k 5466M   20 1135M    0     0   660k      0  2:21:20  0:29:21  1:51:59  518k466M   35 1936M    0     0   673k      0  2:18:36  0:49:06  1:29:30 1397k466M   35 1942M    0     0   672k      0  2:18:42  0:49:16  1:29:26  565k466M   36 1998M    0     0   674k      0  2:18:19  0:50:34  1:27:45 1880k466M   38 2116M    0     0   689k      0  2:15:18  0:52:23  1:22:55  776k 5466M   40 2215M    0     0   691k      0  2:14:53  0:54:40  1:20:13  473k5466M   41 2278M    0     0   686k      0  2:15:55  0:56:39  1:19:16  559k"
     ]
    },
    {
     "name": "stderr",
     "output_type": "stream",
     "text": [
      "IOPub message rate exceeded.\n",
      "The notebook server will temporarily stop sending output\n",
      "to the client in order to avoid crashing it.\n",
      "To change this limit, set the config variable\n",
      "`--NotebookApp.iopub_msg_rate_limit`.\n",
      "\n",
      "Current values:\n",
      "NotebookApp.iopub_msg_rate_limit=1000.0 (msgs/sec)\n",
      "NotebookApp.rate_limit_window=3.0 (secs)\n",
      "\n"
     ]
    }
   ],
   "source": [
    "! curl -u nedc_tuh_eeg:nedc_tuh_eeg https://www.isip.piconepress.com/projects/tuh_eeg/downloads/tuh_eeg_seizure/v1.5.0/devtest_00.tar.gz > $data_path/tarred/devtest_00.tar.gz\n",
    "        "
   ]
  },
  {
   "cell_type": "code",
   "execution_count": 10,
   "metadata": {},
   "outputs": [
    {
     "name": "stdout",
     "output_type": "stream",
     "text": [
      "  % Total    % Received % Xferd  Average Speed   Time    Time     Time  Current\n",
      "                                 Dload  Upload   Total   Spent    Left  Speed\n",
      "100  576M  100  576M    0     0  1374k      0  0:07:09  0:07:09 --:--:-- 1621k:32 1881k  576M   66  382M    0     0  2013k      0  0:04:52  0:03:14  0:01:38  852k1:20  917k\n"
     ]
    }
   ],
   "source": [
    "! curl -u nedc_tuh_eeg:nedc_tuh_eeg https://www.isip.piconepress.com/projects/tuh_eeg/downloads/tuh_eeg_seizure/v1.5.0/devtest_01.tar.gz > $data_path/tarred/devtest_01.tar.gz"
   ]
  },
  {
   "cell_type": "code",
   "execution_count": 11,
   "metadata": {},
   "outputs": [
    {
     "name": "stdout",
     "output_type": "stream",
     "text": [
      "  % Total    % Received % Xferd  Average Speed   Time    Time     Time  Current\n",
      "                                 Dload  Upload   Total   Spent    Left  Speed\n",
      "100  361M  100  361M    0     0   787k      0  0:07:49  0:07:49 --:--:--  844k361M   40  145M    0     0   766k      0  0:08:02  0:03:14  0:04:48  703k  361M   83  301M    0     0   724k      0  0:08:30  0:07:06  0:01:24  971k\n"
     ]
    }
   ],
   "source": [
    "! curl -u nedc_tuh_eeg:nedc_tuh_eeg https://www.isip.piconepress.com/projects/tuh_eeg/downloads/tuh_eeg_seizure/v1.5.0/devtest_02.tar.gz > $data_path/tarred/devtest_02.tar.gz"
   ]
  },
  {
   "cell_type": "code",
   "execution_count": 12,
   "metadata": {},
   "outputs": [
    {
     "name": "stdout",
     "output_type": "stream",
     "text": [
      "  % Total    % Received % Xferd  Average Speed   Time    Time     Time  Current\n",
      "                                 Dload  Upload   Total   Spent    Left  Speed\n",
      " 15 19.0G   15 2925M    0     0  1010k      0  5:29:15  0:49:25  4:39:50 1177k 8:54:04  403k8:35:57  736k:12  8:38:23  473k 19.0G    0  178M    0     0   788k      0  7:01:50  0:03:52  6:57:58 1402k2k680k 19.0G    2  410M    0     0   798k      0  6:56:52  0:08:46  6:48:06  492k1383k19.0G    2  572M    0     0   706k      0  7:51:04  0:13:50  7:37:14  422k726k9.0G    3  630M    0     0   681k      0  8:07:48  0:15:46  7:52:02  387k.0G    3  637M    0     0   681k      0  8:08:14  0:15:58  7:52:16  598k.0G    3  642M    0     0   678k      0  8:10:14  0:16:10  7:54:04  477k.0G    3  691M    0     0   674k      0  8:13:32  0:17:31  7:56:01  736k9.0G    4  871M    0     0   726k      0  7:38:06  0:20:28  7:17:38  374k9.0G    4  880M    0     0   727k      0  7:37:28  0:20:40  7:16:48  989k 19.0G    4  911M    0     0   717k      0  7:43:28  0:21:40  7:21:48  542k.0G    5  983M    0     0   725k      0  7:38:43  0:23:08  7:15:35 1013k19.0G    5 1021M    0     0   726k      0  7:37:53  0:24:00  7:13:53  711k 19.0G    5 1079M    0     0   722k      0  7:40:22  0:25:29  7:14:53  893k19.0G    5 1124M    0     0   712k      0  7:46:53  0:26:56  7:19:57  854k19.0G    6 1294M    0     0   696k      0  7:57:46  0:31:43  7:26:03  825k9.0G    8 1618M    0     0   815k      0  6:48:00  0:33:53  6:14:07 2969k0G    8 1654M    0     0   822k      0  6:44:16  0:34:19  6:09:57  924k0G    8 1726M    0     0   840k      0  6:36:00  0:35:04  6:00:56 2733k19.0G   10 2079M    0     0   912k      0  6:04:46  0:38:55  5:25:51  867k424M    0     0   933k      0  5:56:30  0:44:20  5:12:10 1761k  13 2649M    0     0   982k      0  5:38:37  0:46:02  4:52:35 2905k19.0G   14 2804M    0     0   998k      0  5:33:14  0:47:56  4:45:18 1369k19.0G   14 2827M    0     0  1001k      0  5:32:02  0:48:10  4:43:52 2113k19.0G   14 2885M    0     0  1013k      0  5:28:18  0:48:36  4:39:42 1456k 19.0G   14 2905M    0     0  1011k      0  5:28:58  0:49:02  4:39:56  582k"
     ]
    },
    {
     "name": "stderr",
     "output_type": "stream",
     "text": [
      "IOPub message rate exceeded.\n",
      "The notebook server will temporarily stop sending output\n",
      "to the client in order to avoid crashing it.\n",
      "To change this limit, set the config variable\n",
      "`--NotebookApp.iopub_msg_rate_limit`.\n",
      "\n",
      "Current values:\n",
      "NotebookApp.iopub_msg_rate_limit=1000.0 (msgs/sec)\n",
      "NotebookApp.rate_limit_window=3.0 (secs)\n",
      "\n"
     ]
    },
    {
     "name": "stdout",
     "output_type": "stream",
     "text": [
      " 60 19.0G   60 11.4G    0     0   980k      0  5:39:17  3:24:28  2:14:49 1422kG   46 9048M    0     0   991k      0  5:35:30  2:35:45  2:59:45  956k   46 9105M    0     0   987k      0  5:36:57  2:37:24  2:59:33  785k9.0G   46 9128M    0     0   985k      0  5:37:36  2:38:06  2:59:30  683k   47 9224M    0     0   983k      0  5:38:10  2:40:02  2:58:08 1702k9.0G   47 9338M    0     0   981k      0  5:38:50  2:42:20  2:56:30  487k9.0G   48 9488M    0     0   976k      0  5:40:49  2:45:54  2:54:55  540k19.0G   49 9592M    0     0   966k      0  5:44:04  2:49:19  2:54:45  544k 19.0G   49 9648M    0     0   964k      0  5:44:50  2:50:41  2:54:09  695k0G   49 9656M    0     0   964k      0  5:44:51  2:50:50  2:54:01  981k19.0G   49 9666M    0     0   964k      0  5:44:59  2:51:05  2:53:54  765k960M    0     0   966k      0  5:44:13  2:55:53  2:48:20  764k19.0G   53 10.1G    0     0   981k      0  5:39:03  3:01:35  2:37:28  760k 19.0G   53 10.2G    0     0   980k      0  5:39:20  3:02:38  2:36:42 1394k19.0G   53 10.2G    0     0   980k      0  5:39:18  3:03:09  2:36:09  848k19.0G   53 10.2G    0     0   980k      0  5:39:24  3:03:16  2:36:08  579k19.0G   54 10.3G    0     0   980k      0  5:39:16  3:04:30  2:34:46 1312k 19.0G   54 10.4G    0     0   985k      0  5:37:42  3:05:26  2:32:16 1465k19.0G   55 10.5G    0     0   990k      0  5:35:59  3:06:22  2:29:37 3892k.7G    0     0   995k      0  5:34:13  3:09:01  2:25:12  827k   56 10.7G    0     0   995k      0  5:34:13  3:09:02  2:25:11  787k9.0G   56 10.7G    0     0   994k      0  5:34:28  3:09:22  2:25:06  668k   56 10.7G    0     0   993k      0  5:34:41  3:09:46  2:24:55  841k19.0G   57 10.9G    0     0   983k      0  5:38:11  3:15:08  2:23:03 1040k19.0G   57 11.0G    0     0   985k      0  5:37:36  3:15:39  2:21:57 1131k9.0G   58 11.1G    0     0   981k      0  5:38:52  3:18:28  2:20:24  685k.0G   59 11.2G    0     0   981k      0  5:38:50  3:20:37  2:18:13  486k3G    0     0   979k      0  5:39:30  3:21:33  2:17:57  581k19.0G   59 11.3G    0     0   979k      0  5:39:43  3:21:48  2:17:55  385k59 19.0G   59 11.3G    0     0   977k      0  5:40:18  3:23:34  2:16:44  626k19.0G   59 11.3G    0     0   977k      0  5:40:21  3:23:46  2:16:35 1132k9.0G   60 11.4G    0     0   978k      0  5:39:59  3:24:07  2:15:52 3075k"
     ]
    },
    {
     "name": "stderr",
     "output_type": "stream",
     "text": [
      "IOPub message rate exceeded.\n",
      "The notebook server will temporarily stop sending output\n",
      "to the client in order to avoid crashing it.\n",
      "To change this limit, set the config variable\n",
      "`--NotebookApp.iopub_msg_rate_limit`.\n",
      "\n",
      "Current values:\n",
      "NotebookApp.iopub_msg_rate_limit=1000.0 (msgs/sec)\n",
      "NotebookApp.rate_limit_window=3.0 (secs)\n",
      "\n"
     ]
    },
    {
     "name": "stdout",
     "output_type": "stream",
     "text": [
      " 94 19.0G   94 18.0G    0     0   900k      0  6:09:37  5:51:05  0:18:32 1207k19.0G   81 15.4G    0     0   891k      0  6:13:03  5:02:24  1:10:39  889k19.0G   81 15.4G    0     0   891k      0  6:13:06  5:03:35  1:09:31 1338k.0G   81 15.5G    0     0   891k      0  6:13:05  5:03:49  1:09:16  807k19.0G   81 15.5G    0     0   892k      0  6:12:42  5:04:32  1:08:10  673k0G   81 15.5G    0     0   892k      0  6:12:40  5:05:07  1:07:33  822k19.0G   81 15.5G    0     0   892k      0  6:12:40  5:05:10  1:07:30  755k19.0G   82 15.6G    0     0   892k      0  6:12:44  5:06:37  1:06:07  688k19.0G   82 15.6G    0     0   892k      0  6:12:55  5:07:27  1:05:28  985k.0G   83 15.8G    0     0   890k      0  6:13:23  5:10:47  1:02:36  570k.0G   83 15.9G    0     0   890k      0  6:13:31  5:12:21  1:01:10 1391k0G   83 15.9G    0     0   890k      0  6:13:22  5:12:28  1:00:54 1994k19.0G   83 15.9G    0     0   890k      0  6:13:26  5:13:35  0:59:51 1040k19.0G   84 16.0G    0     0   890k      0  6:13:25  5:14:28  0:58:57 1184k 19.0G   84 16.0G    0     0   890k      0  6:13:24  5:14:32  0:58:52 1078k19.0G   84 16.1G    0     0   890k      0  6:13:41  5:16:07  0:57:34  473k19.0G   84 16.1G    0     0   890k      0  6:13:44  5:16:16  0:57:28  774k19.0G   84 16.1G    0     0   890k      0  6:13:44  5:16:21  0:57:23  800k 19.0G   84 16.1G    0     0   890k      0  6:13:45  5:16:25  0:57:20  759k19.0G   85 16.2G    0     0   890k      0  6:13:25  5:18:06  0:55:19 2274k 19.0G   85 16.2G    0     0   891k      0  6:13:17  5:18:27  0:54:50 1222k   85 16.3G    0     0   891k      0  6:13:08  5:19:51  0:53:17  592k.3G    0     0   891k      0  6:13:15  5:20:20  0:52:55  764k6.3G    0     0   890k      0  6:13:22  5:20:47  0:52:35  640k19.0G   85 16.3G    0     0   890k      0  6:13:36  5:21:16  0:52:20  320k.4G    0     0   888k      0  6:14:17  5:22:40  0:51:37 1059k6.4G    0     0   888k      0  6:14:16  5:22:42  0:51:34 1178kG   86 16.4G    0     0   888k      0  6:14:18  5:23:07  0:51:11  573k 86 16.4G    0     0   888k      0  6:14:19  5:23:09  0:51:10  476k 16.4G    0     0   887k      0  6:14:39  5:23:57  0:50:42  768k0G   87 16.5G    0     0   887k      0  6:14:55  5:26:19  0:48:36 1024k9.0G   87 16.5G    0     0   887k      0  6:14:37  5:26:27  0:48:10 2321k.0G   87 16.7G    0     0   889k      0  6:13:54  5:28:36  0:45:18 1043k16.7G    0     0   889k      0  6:13:55  5:28:54  0:45:01  544k.0G   88 16.7G    0     0   889k      0  6:14:07  5:29:27  0:44:40  543k 16.7G    0     0   888k      0  6:14:12  5:29:43  0:44:29  478k19.0G   88 16.8G    0     0   888k      0  6:14:17  5:30:20  0:43:57  841k19.0G   89 17.0G    0     0   890k      0  6:13:26  5:34:05  0:39:21  460k19.0G   91 17.3G    0     0   889k      0  6:13:48  5:40:14  0:33:34 1027k19.0G   91 17.4G    0     0   890k      0  6:13:47  5:41:46  0:32:01  502k19.0G   91 17.4G    0     0   888k      0  6:14:19  5:43:15  0:31:04  642k19.0G   91 17.5G    0     0   889k      0  6:14:06  5:44:00  0:30:06 1264k19.0G   92 17.5G    0     0   889k      0  6:13:59  5:45:03  0:28:56  701k19.0G   92 17.6G    0     0   889k      0  6:13:53  5:46:34  0:27:19  499k19.0G   92 17.6G    0     0   889k      0  6:13:54  5:46:40  0:27:14  813k19.0G   93 17.7G    0     0   891k      0  6:12:57  5:47:25  0:25:32 2499k19.0G   93 17.8G    0     0   896k      0  6:11:11  5:48:20  0:22:51 2899k19.0G   93 17.8G    0     0   896k      0  6:11:03  5:48:33  0:22:30 1462k19.0G   94 17.9G    0     0   896k      0  6:10:57  5:49:14  0:21:43  807k19.0G   94 17.9G    0     0   896k      0  6:10:57  5:49:16  0:21:41  905k"
     ]
    },
    {
     "name": "stderr",
     "output_type": "stream",
     "text": [
      "IOPub message rate exceeded.\n",
      "The notebook server will temporarily stop sending output\n",
      "to the client in order to avoid crashing it.\n",
      "To change this limit, set the config variable\n",
      "`--NotebookApp.iopub_msg_rate_limit`.\n",
      "\n",
      "Current values:\n",
      "NotebookApp.iopub_msg_rate_limit=1000.0 (msgs/sec)\n",
      "NotebookApp.rate_limit_window=3.0 (secs)\n",
      "\n"
     ]
    }
   ],
   "source": [
    "! curl -u nedc_tuh_eeg:nedc_tuh_eeg https://www.isip.piconepress.com/projects/tuh_eeg/downloads/tuh_eeg_seizure/v1.5.0/train_00.tar.gz > $data_path/tarred/train_00.tar.gz"
   ]
  },
  {
   "cell_type": "code",
   "execution_count": 13,
   "metadata": {},
   "outputs": [
    {
     "name": "stdout",
     "output_type": "stream",
     "text": [
      "  % Total    % Received % Xferd  Average Speed   Time    Time     Time  Current\n",
      "                                 Dload  Upload   Total   Spent    Left  Speed\n",
      " 58 4764M   58 2804M    0     0   963k      0  1:24:24  0:49:40  0:34:44  943k 4764M    0 46.9M    0     0   753k      0  1:47:55  0:01:03  1:46:52  628k02:36  1:39:29 1094k 4764M    2  141M    0     0   858k      0  1:34:44  0:02:48  1:31:56 1854k64M    5  247M    0     0   902k      0  1:30:05  0:04:40  1:25:25 1691k 1:21:27 1793k64M    7  333M    0     0  1030k      0  1:18:56  0:05:31  1:13:25 1438k    9  469M    0     0  1056k      0  1:16:55  0:07:34  1:09:21 1729k4764M   20  977M    0     0  1037k      0  1:18:20  0:16:04  1:02:16  637k22 4764M   22 1094M    0     0   955k      0  1:25:06  0:19:32  1:05:34  310k716k63k 4764M   28 1375M    0     0   931k      0  1:27:20  0:25:12  1:02:08  933k00:49  860k64M   30 1460M    0     0   928k      0  1:27:34  0:26:50  1:00:44  505k90M    0     0   898k      0  1:30:32  0:30:13  1:00:19  458kM   43 2052M    0     0   932k      0  1:27:11  0:37:33  0:49:38 1285k   49 2368M    0     0   936k      0  1:26:48  0:43:08  0:43:40 1054k"
     ]
    },
    {
     "name": "stderr",
     "output_type": "stream",
     "text": [
      "IOPub message rate exceeded.\n",
      "The notebook server will temporarily stop sending output\n",
      "to the client in order to avoid crashing it.\n",
      "To change this limit, set the config variable\n",
      "`--NotebookApp.iopub_msg_rate_limit`.\n",
      "\n",
      "Current values:\n",
      "NotebookApp.iopub_msg_rate_limit=1000.0 (msgs/sec)\n",
      "NotebookApp.rate_limit_window=3.0 (secs)\n",
      "\n"
     ]
    }
   ],
   "source": [
    "! curl -u nedc_tuh_eeg:nedc_tuh_eeg https://www.isip.piconepress.com/projects/tuh_eeg/downloads/tuh_eeg_seizure/v1.5.0/train_01.tar.gz > $data_path/tarred/train_01.tar.gz   "
   ]
  },
  {
   "cell_type": "code",
   "execution_count": 14,
   "metadata": {},
   "outputs": [
    {
     "name": "stdout",
     "output_type": "stream",
     "text": [
      "  % Total    % Received % Xferd  Average Speed   Time    Time     Time  Current\n",
      "                                 Dload  Upload   Total   Spent    Left  Speed\n",
      " 61 4826M   61 2968M    0     0  1021k      0  1:20:37  0:49:34  0:31:03  563k50 1512k4826M    6  330M    0     0  1647k      0  0:49:59  0:03:25  0:46:34 1315k4826M    7  368M    0     0  1510k      0  0:54:31  0:04:09  0:50:22  843k1  0:50:35  774k4826M    8  410M    0     0  1376k      0  0:59:49  0:05:05  0:54:44  809k4826M   10  492M    0     0  1149k      0  1:11:40  0:07:18  1:04:22 1505k 4826M   11  558M    0     0  1068k      0  1:17:03  0:08:54  1:08:09  673k4826M   15  740M    0     0  1071k      0  1:16:52  0:11:47  1:05:05  376k4 1318k 4826M   19  941M    0     0   980k      0  1:24:00  0:16:23  1:07:37  533k4826M   20  982M    0     0   958k      0  1:25:58  0:17:30  1:08:28  961k4826M   21 1055M    0     0   946k      0  1:26:59  0:19:01  1:07:58 1030k 4826M   22 1081M    0     0   934k      0  1:28:06  0:19:44  1:08:22  552k 4826M   23 1130M    0     0   935k      0  1:28:05  0:20:37  1:07:28  640k562k8  908k 4826M   25 1211M    0     0   912k      0  1:30:17  0:22:39  1:07:38  529k 4826M   29 1401M    0     0   863k      0  1:35:22  0:27:41  1:07:41  511k26M   29 1403M    0     0   863k      0  1:35:26  0:27:45  1:07:41  635k 4826M   32 1583M    0     0   852k      0  1:36:38  0:31:42  1:04:56  630k 4826M   41 2018M    0     0   848k      0  1:37:03  0:40:35  0:56:28  675k 4826M   42 2062M    0     0   851k      0  1:36:41  0:41:19  0:55:22 2067k 4826M   43 2095M    0     0   852k      0  1:36:34  0:41:55  0:54:39  556k4826M   60 2909M    0     0  1019k      0  1:20:46  0:48:41  0:32:05  840k"
     ]
    },
    {
     "name": "stderr",
     "output_type": "stream",
     "text": [
      "IOPub message rate exceeded.\n",
      "The notebook server will temporarily stop sending output\n",
      "to the client in order to avoid crashing it.\n",
      "To change this limit, set the config variable\n",
      "`--NotebookApp.iopub_msg_rate_limit`.\n",
      "\n",
      "Current values:\n",
      "NotebookApp.iopub_msg_rate_limit=1000.0 (msgs/sec)\n",
      "NotebookApp.rate_limit_window=3.0 (secs)\n",
      "\n"
     ]
    }
   ],
   "source": [
    "! curl -u nedc_tuh_eeg:nedc_tuh_eeg https://www.isip.piconepress.com/projects/tuh_eeg/downloads/tuh_eeg_seizure/v1.5.0/train_02.tar.gz > $data_path/tarred/train_02.tar.gz"
   ]
  },
  {
   "cell_type": "code",
   "execution_count": 15,
   "metadata": {},
   "outputs": [
    {
     "name": "stdout",
     "output_type": "stream",
     "text": [
      "  % Total    % Received % Xferd  Average Speed   Time    Time     Time  Current\n",
      "                                 Dload  Upload   Total   Spent    Left  Speed\n",
      "100 12218  100 12218    0     0  19301      0 --:--:-- --:--:-- --:--:-- 19301\n"
     ]
    }
   ],
   "source": [
    "! curl -u nedc_tuh_eeg:nedc_tuh_eeg https://www.isip.piconepress.com/projects/tuh_eeg/downloads/tuh_eeg_seizure/v1.5.0/_AAREADME.txt > $root_path/their_readme.txt"
   ]
  },
  {
   "cell_type": "code",
   "execution_count": 16,
   "metadata": {},
   "outputs": [
    {
     "name": "stdout",
     "output_type": "stream",
     "text": [
      "  % Total    % Received % Xferd  Average Speed   Time    Time     Time  Current\n",
      "                                 Dload  Upload   Total   Spent    Left  Speed\n",
      "100 11535  100 11535    0     0  34848      0 --:--:-- --:--:-- --:--:-- 34954\n"
     ]
    }
   ],
   "source": [
    "! curl -u nedc_tuh_eeg:nedc_tuh_eeg https://www.isip.piconepress.com/projects/tuh_eeg/downloads/tuh_eeg_seizure/v1.5.0/_DOCS/seizures_types_v01.xlsx > $data_path/siezures_types_v01.xlxs"
   ]
  },
  {
   "cell_type": "code",
   "execution_count": 17,
   "metadata": {},
   "outputs": [
    {
     "name": "stdout",
     "output_type": "stream",
     "text": [
      "  % Total    % Received % Xferd  Average Speed   Time    Time     Time  Current\n",
      "                                 Dload  Upload   Total   Spent    Left  Speed\n",
      "100  793k  100  793k    0     0   441k      0  0:00:01  0:00:01 --:--:--  441k\n"
     ]
    }
   ],
   "source": [
    "! curl -u nedc_tuh_eeg:nedc_tuh_eeg https://www.isip.piconepress.com/projects/tuh_eeg/downloads/tuh_eeg_seizure/v1.5.0/_DOCS/seizures_v32r.xlsx > $data_path/seizures_v32.xlsx"
   ]
  },
  {
   "cell_type": "markdown",
   "metadata": {},
   "source": [
    "# Untar/unzip Data in Raw Directory"
   ]
  },
  {
   "cell_type": "code",
   "execution_count": 18,
   "metadata": {},
   "outputs": [
    {
     "name": "stdout",
     "output_type": "stream",
     "text": [
      "/data2/dcgrzenda/tuh_eeg/data/tarred/devtest_00.tar.gz\n",
      "/data2/dcgrzenda/tuh_eeg/data/tarred/devtest_02.tar.gz\n",
      "/data2/dcgrzenda/tuh_eeg/data/tarred/train_00.tar.gz\n",
      "/data2/dcgrzenda/tuh_eeg/data/tarred/train_01.tar.gz\n",
      "/data2/dcgrzenda/tuh_eeg/data/tarred/devtest_01.tar.gz\n",
      "/data2/dcgrzenda/tuh_eeg/data/tarred/train_02.tar.gz\n"
     ]
    }
   ],
   "source": [
    "for file in (data_path/'tarred').iterdir():\n",
    "    print(file)\n",
    "    ! tar -xzf $file -C $data_path/raw\n",
    "    ! rm $file"
   ]
  },
  {
   "cell_type": "code",
   "execution_count": 19,
   "metadata": {},
   "outputs": [],
   "source": [
    "! rm -rf $data_path/tarred"
   ]
  },
  {
   "cell_type": "code",
   "execution_count": null,
   "metadata": {},
   "outputs": [],
   "source": []
  }
 ],
 "metadata": {
  "kernelspec": {
   "display_name": "Python 3",
   "language": "python",
   "name": "python3"
  },
  "language_info": {
   "codemirror_mode": {
    "name": "ipython",
    "version": 3
   },
   "file_extension": ".py",
   "mimetype": "text/x-python",
   "name": "python",
   "nbconvert_exporter": "python",
   "pygments_lexer": "ipython3",
   "version": "3.7.3"
  }
 },
 "nbformat": 4,
 "nbformat_minor": 2
}

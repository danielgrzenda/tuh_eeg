{
 "cells": [
  {
   "cell_type": "markdown",
   "metadata": {},
   "source": [
    "# Magics, Imports, and Versions"
   ]
  },
  {
   "cell_type": "code",
   "execution_count": 1,
   "metadata": {},
   "outputs": [],
   "source": [
    "%reload_ext autoreload\n",
    "%autoreload 2\n",
    "%matplotlib inline"
   ]
  },
  {
   "cell_type": "code",
   "execution_count": 2,
   "metadata": {},
   "outputs": [],
   "source": [
    "import collections\n",
    "import json\n",
    "import operator\n",
    "import os\n",
    "from pathlib import Path\n",
    "import pyedflib\n",
    "from subprocess import call\n",
    "import sys\n",
    "import typing\n",
    "import urllib"
   ]
  },
  {
   "cell_type": "code",
   "execution_count": 3,
   "metadata": {},
   "outputs": [
    {
     "name": "stdout",
     "output_type": "stream",
     "text": [
      "__Python VERSION: 3.7.3 (default, Mar 27 2019, 22:11:17) \n",
      "[GCC 7.3.0]\n",
      "Pytorch Not Installed\n",
      "fastai Not Installed\n",
      "__CUDA VERSION\n",
      "nvcc: NVIDIA (R) Cuda compiler driver\n",
      "Copyright (c) 2005-2018 NVIDIA Corporation\n",
      "Built on Sat_Aug_25_21:08:01_CDT_2018\n",
      "Cuda compilation tools, release 10.0, V10.0.130\n",
      "__Devices\n",
      "No GPUs Found\n"
     ]
    }
   ],
   "source": [
    "print(f'__Python VERSION: {sys.version}')\n",
    "\n",
    "try:\n",
    "    print(f'__pyTorch VERSION: {torch.__version__}')\n",
    "    PYTORCH = True\n",
    "except: \n",
    "    print(\"Pytorch Not Installed\")\n",
    "    PYTORCH = False\n",
    "\n",
    "try:\n",
    "    print(f'__fastai VERSION: {fastai.__version__}')\n",
    "except:\n",
    "    print(\"fastai Not Installed\")\n",
    "    \n",
    "print('__CUDA VERSION')\n",
    "\n",
    "! nvcc --version\n",
    "\n",
    "if PYTORCH:\n",
    "    print(f'__CUDNN VERSION: {torch.backends.cudnn.version()}')\n",
    "    print(f'__Number CUDA Devices: {torch.cuda.device_count()}')\n",
    "    \n",
    "print(f'__Devices')\n",
    "\n",
    "try:\n",
    "    call([\"nvidia-smi\", \"--format=csv\", \"--query-gpu=index,name,driver_version,memory.total,memory.used,memory.free\"])\n",
    "    print(f'Active CUDA Device: GPU {torch.cuda.current_device()}')\n",
    "\n",
    "    print (f'Available devices: {torch.cuda.device_count()}')\n",
    "    print (f'Current cuda device {torch.cuda.current_device()}')\n",
    "except:\n",
    "    print(\"No GPUs Found\")"
   ]
  },
  {
   "cell_type": "markdown",
   "metadata": {},
   "source": [
    "# Load in Data Dict"
   ]
  },
  {
   "cell_type": "code",
   "execution_count": 4,
   "metadata": {},
   "outputs": [],
   "source": [
    "here = Path(f'{os.getcwd()}')\n",
    "data_path = here.parent/'data'\n",
    "raw_path = data_path/'raw'/'v1.5.0/edf'"
   ]
  },
  {
   "cell_type": "code",
   "execution_count": 5,
   "metadata": {},
   "outputs": [],
   "source": [
    "# load the file back in \n",
    "with open(here.parent/'data_dict.json', 'r') as file:\n",
    "     data_dict = json.load(file)"
   ]
  },
  {
   "cell_type": "code",
   "execution_count": 6,
   "metadata": {},
   "outputs": [
    {
     "data": {
      "text/plain": [
       "[{'patient': '00004151',\n",
       "  'date': '2007/09/28',\n",
       "  'session': '002',\n",
       "  'segment': '001',\n",
       "  'total_segments': '003',\n",
       "  'labels': ['bckg'],\n",
       "  'durations': ['490.0000'],\n",
       "  'channels': '41',\n",
       "  'number_obs': '122500',\n",
       "  'sample_rate': '250.0',\n",
       "  'config': 'le',\n",
       "  'type': 'dev_test',\n",
       "  'loc': '/data2/dcgrzenda/tuh_eeg/data/raw/v1.5.0/edf/dev_test/02_tcp_le/041/00004151/s002_2007_09_28/00004151_s002_t001.edf',\n",
       "  'label_file': '/data2/dcgrzenda/tuh_eeg/data/raw/v1.5.0/edf/dev_test/02_tcp_le/041/00004151/s002_2007_09_28/00004151_s002_t001.tse'},\n",
       " {'patient': '00004151',\n",
       "  'date': '2007/09/28',\n",
       "  'session': '002',\n",
       "  'segment': '003',\n",
       "  'total_segments': '003',\n",
       "  'labels': ['bckg'],\n",
       "  'durations': ['443.0000'],\n",
       "  'channels': '41',\n",
       "  'number_obs': '110750',\n",
       "  'sample_rate': '250.0',\n",
       "  'config': 'le',\n",
       "  'type': 'dev_test',\n",
       "  'loc': '/data2/dcgrzenda/tuh_eeg/data/raw/v1.5.0/edf/dev_test/02_tcp_le/041/00004151/s002_2007_09_28/00004151_s002_t003.edf',\n",
       "  'label_file': '/data2/dcgrzenda/tuh_eeg/data/raw/v1.5.0/edf/dev_test/02_tcp_le/041/00004151/s002_2007_09_28/00004151_s002_t003.tse'},\n",
       " {'patient': '00004151',\n",
       "  'date': '2007/09/28',\n",
       "  'session': '002',\n",
       "  'segment': '002',\n",
       "  'total_segments': '003',\n",
       "  'labels': ['bckg'],\n",
       "  'durations': ['256.0000'],\n",
       "  'channels': '41',\n",
       "  'number_obs': '64000',\n",
       "  'sample_rate': '250.0',\n",
       "  'config': 'le',\n",
       "  'type': 'dev_test',\n",
       "  'loc': '/data2/dcgrzenda/tuh_eeg/data/raw/v1.5.0/edf/dev_test/02_tcp_le/041/00004151/s002_2007_09_28/00004151_s002_t002.edf',\n",
       "  'label_file': '/data2/dcgrzenda/tuh_eeg/data/raw/v1.5.0/edf/dev_test/02_tcp_le/041/00004151/s002_2007_09_28/00004151_s002_t002.tse'},\n",
       " {'patient': '00004151',\n",
       "  'date': '2007/09/2',\n",
       "  'session': '001',\n",
       "  'segment': '001',\n",
       "  'total_segments': '001',\n",
       "  'labels': ['bckg', 'fnsz', 'bckg', 'fnsz', 'bckg', 'fnsz', 'bckg'],\n",
       "  'durations': ['57.2880',\n",
       "   '162.7440',\n",
       "   '711.1520',\n",
       "   '836.1520',\n",
       "   '1070.8880',\n",
       "   '1157.0200',\n",
       "   '1423.0000'],\n",
       "  'channels': '41',\n",
       "  'number_obs': '355750',\n",
       "  'sample_rate': '250.0',\n",
       "  'config': 'le',\n",
       "  'type': 'dev_test',\n",
       "  'loc': '/data2/dcgrzenda/tuh_eeg/data/raw/v1.5.0/edf/dev_test/02_tcp_le/041/00004151/s001_2007_09_25/00004151_s001_t001.edf',\n",
       "  'label_file': '/data2/dcgrzenda/tuh_eeg/data/raw/v1.5.0/edf/dev_test/02_tcp_le/041/00004151/s001_2007_09_25/00004151_s001_t001.tse'}]"
      ]
     },
     "execution_count": 6,
     "metadata": {},
     "output_type": "execute_result"
    }
   ],
   "source": [
    "data_dict['00004151']"
   ]
  },
  {
   "cell_type": "markdown",
   "metadata": {},
   "source": [
    "# Observations per Electrode Config"
   ]
  },
  {
   "cell_type": "code",
   "execution_count": 7,
   "metadata": {},
   "outputs": [],
   "source": [
    "configs = []\n",
    "for key, value in data_dict.items():\n",
    "    for entry in value:\n",
    "        configs.append(entry['config'])"
   ]
  },
  {
   "cell_type": "code",
   "execution_count": 8,
   "metadata": {},
   "outputs": [
    {
     "data": {
      "text/plain": [
       "Counter({'ar': 4074, 'le': 535, 'a': 1001})"
      ]
     },
     "execution_count": 8,
     "metadata": {},
     "output_type": "execute_result"
    }
   ],
   "source": [
    "collections.Counter(configs)"
   ]
  },
  {
   "cell_type": "markdown",
   "metadata": {},
   "source": [
    "## Time per Electrode Config as well"
   ]
  },
  {
   "cell_type": "code",
   "execution_count": 9,
   "metadata": {},
   "outputs": [],
   "source": [
    "configs = collections.defaultdict(list)\n",
    "for key, value in data_dict.items():\n",
    "    for entry in value:\n",
    "        configs[entry['config']].append(float(entry['durations'][-1]))"
   ]
  },
  {
   "cell_type": "code",
   "execution_count": 10,
   "metadata": {},
   "outputs": [
    {
     "name": "stdout",
     "output_type": "stream",
     "text": [
      "a 452039.0\n",
      "ar 2376345.0\n",
      "le 493132.0\n"
     ]
    }
   ],
   "source": [
    "summary = collections.defaultdict()\n",
    "for key, value in sorted(configs.items()):\n",
    "    summary[key] = sum(value)\n",
    "for key, value in summary.items():\n",
    "    print(key, value)"
   ]
  },
  {
   "cell_type": "code",
   "execution_count": 11,
   "metadata": {},
   "outputs": [
    {
     "name": "stdout",
     "output_type": "stream",
     "text": [
      "ar 71.54%\n",
      "le 14.85%\n",
      "a 13.61%\n"
     ]
    }
   ],
   "source": [
    "total = sum(summary.values())\n",
    "for key, value in sorted(summary.items(), key=operator.itemgetter(1), reverse=True):\n",
    "    print(f'{key} {(value/total)*100:.2f}%')"
   ]
  },
  {
   "cell_type": "markdown",
   "metadata": {},
   "source": [
    "# Duration Breakdown"
   ]
  },
  {
   "cell_type": "code",
   "execution_count": 12,
   "metadata": {},
   "outputs": [
    {
     "data": {
      "text/plain": [
       "((11.0, 2), (3598.0, 1))"
      ]
     },
     "execution_count": 12,
     "metadata": {},
     "output_type": "execute_result"
    }
   ],
   "source": [
    "duration = collections.defaultdict(int)\n",
    "for key, value in data_dict.items():\n",
    "    for entry in value:\n",
    "        duration[float(entry['durations'][-1])] += 1\n",
    "\n",
    "min(duration.items()), max(duration.items())"
   ]
  },
  {
   "cell_type": "markdown",
   "metadata": {},
   "source": [
    "# Time Breakdown for each Label"
   ]
  },
  {
   "cell_type": "code",
   "execution_count": 13,
   "metadata": {},
   "outputs": [],
   "source": [
    "time_breakdown = collections.defaultdict(list)\n",
    "for key, value in data_dict.items():\n",
    "    for entry in value:\n",
    "        time_list = zip(entry['labels'], entry['durations'])\n",
    "        last = 0\n",
    "        for label, curr in time_list:\n",
    "            time = float(curr) - last\n",
    "            time_breakdown[label].append(time)\n",
    "            last = float(curr)"
   ]
  },
  {
   "cell_type": "code",
   "execution_count": 14,
   "metadata": {},
   "outputs": [
    {
     "data": {
      "text/plain": [
       "[('absz', 851.9839999999986),\n",
       " ('bckg', 3092339.931200001),\n",
       " ('cpsz', 35342.82400000001),\n",
       " ('fnsz', 122307.4608999996),\n",
       " ('gnsz', 60024.92230000003),\n",
       " ('mysz', 1312.0),\n",
       " ('spsz', 2145.8244000000004),\n",
       " ('tcsz', 5879.5585),\n",
       " ('tnsz', 1311.4947000000002)]"
      ]
     },
     "execution_count": 14,
     "metadata": {},
     "output_type": "execute_result"
    }
   ],
   "source": [
    "summary = collections.defaultdict()\n",
    "for key, value in time_breakdown.items():\n",
    "    summary[key] = sum(value)\n",
    "\n",
    "sorted(summary.items())"
   ]
  },
  {
   "cell_type": "code",
   "execution_count": 15,
   "metadata": {},
   "outputs": [
    {
     "name": "stdout",
     "output_type": "stream",
     "text": [
      "Total Time: 3321516.000000001\n",
      "bckg 93.10%\n",
      "fnsz 3.68%\n",
      "gnsz 1.81%\n",
      "cpsz 1.06%\n",
      "tcsz 0.18%\n",
      "spsz 0.06%\n",
      "mysz 0.04%\n",
      "tnsz 0.04%\n",
      "absz 0.03%\n"
     ]
    }
   ],
   "source": [
    "total = sum(summary.values())\n",
    "print(f'Total Time: {total}')\n",
    "for key, value in sorted(summary.items(), key=operator.itemgetter(1), reverse=True):\n",
    "    print(f'{key} {(value/total)*100:.2f}%')"
   ]
  },
  {
   "cell_type": "markdown",
   "metadata": {},
   "source": [
    "# Label Breakdown"
   ]
  },
  {
   "cell_type": "markdown",
   "metadata": {},
   "source": [
    "Is there ever more than one type of seizure in a session?"
   ]
  },
  {
   "cell_type": "code",
   "execution_count": 16,
   "metadata": {},
   "outputs": [
    {
     "name": "stdout",
     "output_type": "stream",
     "text": [
      "frozenset({'bckg'}) : 4457\n",
      "frozenset({'bckg', 'cpsz'}) : 162\n",
      "frozenset({'fnsz', 'bckg'}) : 649\n",
      "frozenset({'fnsz', 'bckg', 'cpsz'}) : 5\n",
      "frozenset({'bckg', 'gnsz'}) : 218\n",
      "frozenset({'fnsz', 'bckg', 'gnsz'}) : 23\n",
      "frozenset({'bckg', 'mysz'}) : 3\n",
      "frozenset({'tcsz', 'bckg'}) : 30\n",
      "frozenset({'tcsz', 'bckg', 'fnsz'}) : 3\n",
      "frozenset({'bckg', 'tnsz'}) : 31\n",
      "frozenset({'bckg', 'cpsz', 'gnsz'}) : 1\n",
      "frozenset({'bckg', 'spsz', 'gnsz'}) : 2\n",
      "frozenset({'fnsz', 'bckg', 'spsz'}) : 1\n",
      "frozenset({'absz', 'bckg'}) : 20\n",
      "frozenset({'bckg', 'spsz'}) : 5\n"
     ]
    }
   ],
   "source": [
    "label_sets = collections.defaultdict(int)\n",
    "for key, value in data_dict.items():\n",
    "    for entry in value:\n",
    "        label_set = frozenset(entry['labels'])\n",
    "        label_sets[label_set] += 1\n",
    "for key, value in label_sets.items():\n",
    "    print(f'{key} : {value}')"
   ]
  },
  {
   "cell_type": "markdown",
   "metadata": {},
   "source": [
    "Can we relabel the one's with 3 seizure types? Do people usually have different seizure types back to back?\n",
    "\n",
    "fnsz or gnsz become the other label?"
   ]
  },
  {
   "cell_type": "markdown",
   "metadata": {},
   "source": [
    "# Channel Breakdown"
   ]
  },
  {
   "cell_type": "code",
   "execution_count": 17,
   "metadata": {},
   "outputs": [],
   "source": [
    "time_breakdown = collections.defaultdict(list)\n",
    "for key, value in data_dict.items():\n",
    "    for entry in value:\n",
    "        time_breakdown[int(entry['channels'])].append(float(entry['durations'][-1]))"
   ]
  },
  {
   "cell_type": "code",
   "execution_count": 18,
   "metadata": {},
   "outputs": [
    {
     "data": {
      "text/plain": [
       "[(25, 6007.0),\n",
       " (26, 4079.0),\n",
       " (27, 322983.0),\n",
       " (28, 114145.0),\n",
       " (29, 315438.0),\n",
       " (30, 322669.0),\n",
       " (31, 243163.0),\n",
       " (32, 326016.0),\n",
       " (33, 550259.0),\n",
       " (34, 572917.0),\n",
       " (35, 5879.0),\n",
       " (36, 242326.0),\n",
       " (41, 281907.0),\n",
       " (128, 1250.0),\n",
       " (129, 12478.0)]"
      ]
     },
     "execution_count": 18,
     "metadata": {},
     "output_type": "execute_result"
    }
   ],
   "source": [
    "summary = collections.defaultdict()\n",
    "for key, value in time_breakdown.items():\n",
    "    summary[key]= sum(value)\n",
    "\n",
    "sorted(summary.items())"
   ]
  },
  {
   "cell_type": "code",
   "execution_count": 19,
   "metadata": {},
   "outputs": [
    {
     "name": "stdout",
     "output_type": "stream",
     "text": [
      "34 17.25%\n",
      "33 16.57%\n",
      "32 9.82%\n",
      "27 9.72%\n",
      "30 9.71%\n",
      "29 9.50%\n",
      "41 8.49%\n",
      "31 7.32%\n",
      "36 7.30%\n",
      "28 3.44%\n",
      "129 0.38%\n",
      "25 0.18%\n",
      "35 0.18%\n",
      "26 0.12%\n",
      "128 0.04%\n"
     ]
    }
   ],
   "source": [
    "total = sum(summary.values())\n",
    "\n",
    "for key, value in sorted(summary.items(), key=operator.itemgetter(1), reverse=True):\n",
    "    print(f'{key} {(value/total)*100:.2f}%')"
   ]
  },
  {
   "cell_type": "markdown",
   "metadata": {},
   "source": [
    "# Hertz Breakdown"
   ]
  },
  {
   "cell_type": "code",
   "execution_count": 20,
   "metadata": {},
   "outputs": [
    {
     "data": {
      "text/plain": [
       "dict_items([(256, 3750), (250, 1045), (400, 637), (512, 127), (1000, 51)])"
      ]
     },
     "execution_count": 20,
     "metadata": {},
     "output_type": "execute_result"
    }
   ],
   "source": [
    "hertz = collections.defaultdict(int)\n",
    "for key, value in data_dict.items():\n",
    "    for entry in value:\n",
    "        hertz[int(float(entry['sample_rate']))] += 1\n",
    "hertz.items()"
   ]
  },
  {
   "cell_type": "code",
   "execution_count": 21,
   "metadata": {},
   "outputs": [
    {
     "name": "stdout",
     "output_type": "stream",
     "text": [
      "256 66.84%\n",
      "250 18.63%\n",
      "400 11.35%\n",
      "512 2.26%\n",
      "1000 0.91%\n"
     ]
    }
   ],
   "source": [
    "total_hertz = sum(hertz.values())\n",
    "for key, value in sorted(hertz.items(), key=operator.itemgetter(1), reverse=True):\n",
    "    print(f'{key} {(value/total_hertz)*100:.2f}%')"
   ]
  },
  {
   "cell_type": "markdown",
   "metadata": {},
   "source": [
    "# Size Estimation based on Time"
   ]
  },
  {
   "cell_type": "code",
   "execution_count": 22,
   "metadata": {},
   "outputs": [
    {
     "name": "stdout",
     "output_type": "stream",
     "text": [
      "2612.0 3321516.0\n",
      "0.0007863879023915585\n"
     ]
    }
   ],
   "source": [
    "total_time = 0\n",
    "image_time = 0\n",
    "for key, value in data_dict.items():\n",
    "    if key == '00004151':\n",
    "        for entry in value:\n",
    "            image_time += float(entry['durations'][-1])\n",
    "            total_time += float(entry['durations'][-1])\n",
    "    else:\n",
    "        for entry in value:\n",
    "            total_time += float(entry['durations'][-1])\n",
    "\n",
    "print(image_time, total_time)\n",
    "ratio = image_time/total_time\n",
    "print(ratio)"
   ]
  },
  {
   "cell_type": "code",
   "execution_count": 23,
   "metadata": {},
   "outputs": [],
   "source": [
    "regular_size = 20.47\n",
    "# zipped_size = \n",
    "# gzip_size = \n",
    "# 7z_size = \n",
    "# zopfli_size = "
   ]
  },
  {
   "cell_type": "code",
   "execution_count": 24,
   "metadata": {},
   "outputs": [
    {
     "name": "stdout",
     "output_type": "stream",
     "text": [
      "Regular: 26030.41\n"
     ]
    }
   ],
   "source": [
    "print(f'Regular: {regular_size/ratio:0.2f}')\n",
    "# print(f'Zipped: {zipped_size/ratio:0.2f}')\n",
    "# print(f'Gzip: {gzip_size/ratio:0.2f}')\n",
    "# print(f'7z: {7z_size/ratio:0.2f}')\n",
    "# print(f'Zopfli: {zopfli_size/ratio:0.2f}')"
   ]
  },
  {
   "cell_type": "markdown",
   "metadata": {},
   "source": [
    "# EEG Channel Breakdown"
   ]
  },
  {
   "cell_type": "code",
   "execution_count": 25,
   "metadata": {},
   "outputs": [],
   "source": [
    "channel_names = collections.defaultdict(int)\n",
    "total_eeg_count = 0\n",
    "for key, value in data_dict.items():\n",
    "    total_eeg_count += len(value)\n",
    "    for entry in value:\n",
    "        f = pyedflib.EdfReader(entry['loc'])\n",
    "        n = f.signals_in_file\n",
    "        signal_labels = f.getSignalLabels()\n",
    "        for label in signal_labels:\n",
    "            channel_names[label] += 1"
   ]
  },
  {
   "cell_type": "code",
   "execution_count": 26,
   "metadata": {},
   "outputs": [
    {
     "data": {
      "text/plain": [
       "5610"
      ]
     },
     "execution_count": 26,
     "metadata": {},
     "output_type": "execute_result"
    }
   ],
   "source": [
    "total_eeg_count"
   ]
  },
  {
   "cell_type": "code",
   "execution_count": 27,
   "metadata": {},
   "outputs": [
    {
     "name": "stdout",
     "output_type": "stream",
     "text": [
      "EEG FP1-REF          5075\n",
      "EEG FP2-REF          5075\n",
      "EEG F3-REF           5075\n",
      "EEG F4-REF           5075\n",
      "EEG C3-REF           5075\n",
      "EEG C4-REF           5075\n",
      "EEG P3-REF           5075\n",
      "EEG P4-REF           5075\n",
      "EEG O1-REF           5075\n",
      "EEG O2-REF           5075\n",
      "EEG F7-REF           5075\n",
      "EEG F8-REF           5075\n",
      "EEG T3-REF           5075\n",
      "EEG T4-REF           5075\n",
      "EEG T5-REF           5075\n",
      "EEG T6-REF           5075\n",
      "EEG FZ-REF           5075\n",
      "EEG CZ-REF           5075\n",
      "EEG PZ-REF           5075\n",
      "EEG T1-REF           4536\n",
      "EEG T2-REF           4536\n",
      "IBI                  4438\n",
      "BURSTS               4438\n",
      "SUPPR                4438\n",
      "EEG EKG1-REF         4423\n",
      "EEG A1-REF           4074\n",
      "EEG A2-REF           4074\n",
      "EEG 31-REF           2927\n",
      "EEG 32-REF           2927\n",
      "EEG C3P-REF          2232\n",
      "EEG C4P-REF          2232\n",
      "EEG SP1-REF          2171\n",
      "EEG SP2-REF          2083\n",
      "EMG-REF              1583\n",
      "EEG 29-REF           1249\n",
      "EEG 30-REF           1249\n",
      "EEG ROC-REF          1058\n",
      "EEG LOC-REF          1058\n",
      "PHOTIC-REF            893\n",
      "EEG 26-REF            795\n",
      "EEG 27-REF            795\n",
      "EEG 28-REF            795\n",
      "EEG FP1-LE            535\n",
      "EEG FP2-LE            535\n",
      "EEG F3-LE             535\n",
      "EEG F4-LE             535\n",
      "EEG C3-LE             535\n",
      "EEG C4-LE             535\n",
      "EEG A1-LE             535\n",
      "EEG A2-LE             535\n",
      "EEG P3-LE             535\n",
      "EEG P4-LE             535\n",
      "EEG O1-LE             535\n",
      "EEG O2-LE             535\n",
      "EEG F7-LE             535\n",
      "EEG F8-LE             535\n",
      "EEG T3-LE             535\n",
      "EEG T4-LE             535\n",
      "EEG T5-LE             535\n",
      "EEG T6-LE             535\n",
      "EEG FZ-LE             535\n",
      "EEG CZ-LE             535\n",
      "EEG PZ-LE             535\n",
      "EEG OZ-LE             535\n",
      "EEG EKG-LE            535\n",
      "EEG 30-LE             535\n",
      "EEG 21-REF            527\n",
      "EEG 22-REF            527\n",
      "EEG 25-REF            527\n",
      "EEG 20-REF            522\n",
      "EEG 23-REF            522\n",
      "EEG 24-REF            522\n",
      "EEG PG1-LE            521\n",
      "EEG PG2-LE            521\n",
      "PHOTIC PH             521\n",
      "EEG 28-LE             463\n",
      "EEG 29-LE             463\n",
      "EEG 26-LE             349\n",
      "EEG 27-LE             349\n",
      "EEG 31-LE             335\n",
      "EEG 32-LE             335\n",
      "DC1-DC                314\n",
      "DC2-DC                314\n",
      "DC3-DC                314\n",
      "DC4-DC                314\n",
      "DC5-DC                314\n",
      "DC6-DC                314\n",
      "DC7-DC                314\n",
      "DC8-DC                314\n",
      "EEG T1-LE             200\n",
      "EEG T2-LE             200\n",
      "EEG SP2-LE            186\n",
      "EEG SP1-LE            186\n",
      "EEG EKG-REF           115\n",
      "EEG LUC-REF           110\n",
      "EEG RLC-REF           110\n",
      "EEG RESP1-REF         110\n",
      "EEG RESP2-REF         110\n",
      "EEG RLC-LE             72\n",
      "EEG LUC-LE             72\n",
      "RESP ABDOMEN-REF       69\n",
      "EEG 33-REF             66\n",
      "EEG 34-REF             66\n",
      "EEG 35-REF             66\n",
      "EEG 36-REF             66\n",
      "EEG 37-REF             66\n",
      "EEG 38-REF             66\n",
      "EEG 39-REF             66\n",
      "EEG 40-REF             66\n",
      "EEG 41-REF             66\n",
      "EEG 42-REF             66\n",
      "EEG 43-REF             66\n",
      "EEG 44-REF             66\n",
      "EEG 45-REF             66\n",
      "EEG 46-REF             66\n",
      "EEG 47-REF             66\n",
      "EEG 48-REF             66\n",
      "EEG 49-REF             66\n",
      "EEG 50-REF             66\n",
      "EEG 51-REF             66\n",
      "EEG 52-REF             66\n",
      "EEG 53-REF             66\n",
      "EEG 54-REF             66\n",
      "EEG 55-REF             66\n",
      "EEG 56-REF             66\n",
      "EEG 57-REF             66\n",
      "EEG 58-REF             66\n",
      "EEG 59-REF             66\n",
      "EEG 60-REF             66\n",
      "EEG 61-REF             66\n",
      "EEG 62-REF             66\n",
      "EEG 63-REF             66\n",
      "EEG 64-REF             66\n",
      "EEG 65-REF             66\n",
      "EEG 66-REF             66\n",
      "EEG 67-REF             66\n",
      "EEG 68-REF             66\n",
      "EEG 69-REF             66\n",
      "EEG 70-REF             66\n",
      "EEG 71-REF             66\n",
      "EEG 72-REF             66\n",
      "EEG 73-REF             66\n",
      "EEG 74-REF             66\n",
      "EEG 75-REF             66\n",
      "EEG 76-REF             66\n",
      "EEG 77-REF             66\n",
      "EEG 78-REF             66\n",
      "EEG 79-REF             66\n",
      "EEG 80-REF             66\n",
      "EEG 81-REF             66\n",
      "EEG 82-REF             66\n",
      "EEG 83-REF             66\n",
      "EEG 84-REF             66\n",
      "EEG 85-REF             66\n",
      "EEG 86-REF             66\n",
      "EEG 87-REF             66\n",
      "EEG 88-REF             66\n",
      "EEG 89-REF             66\n",
      "EEG 90-REF             66\n",
      "EEG 91-REF             66\n",
      "EEG 92-REF             66\n",
      "EEG 93-REF             66\n",
      "EEG 94-REF             66\n",
      "EEG 95-REF             66\n",
      "EEG 96-REF             66\n",
      "EEG 97-REF             66\n",
      "EEG 98-REF             66\n",
      "EEG 99-REF             66\n",
      "EEG 100-REF            66\n",
      "EEG 101-REF            66\n",
      "EEG 102-REF            66\n",
      "EEG 103-REF            66\n",
      "EEG 104-REF            66\n",
      "EEG 105-REF            66\n",
      "EEG 106-REF            66\n",
      "EEG 107-REF            66\n",
      "EEG 108-REF            66\n",
      "EEG 109-REF            66\n",
      "EEG 110-REF            66\n",
      "EEG 111-REF            66\n",
      "EEG 112-REF            66\n",
      "EEG 113-REF            66\n",
      "EEG 114-REF            66\n",
      "EEG 115-REF            66\n",
      "EEG 116-REF            66\n",
      "EEG 117-REF            66\n",
      "EEG 118-REF            66\n",
      "EEG 119-REF            66\n",
      "EEG 120-REF            66\n",
      "EEG 121-REF            66\n",
      "EEG 122-REF            66\n",
      "EEG 123-REF            66\n",
      "EEG 124-REF            66\n",
      "EEG 125-REF            66\n",
      "EEG 126-REF            66\n",
      "EEG 127-REF            66\n",
      "EEG 128-REF            66\n",
      "EDF ANNOTATIONS        62\n",
      "EEG OZ-REF             15\n",
      "ECG EKG-REF            15\n",
      "PULSE RATE             15\n",
      "EEG 23-LE              14\n",
      "EEG 24-LE              14\n"
     ]
    }
   ],
   "source": [
    "for key, value in sorted(channel_names.items(), key=operator.itemgetter(1), reverse=True):\n",
    "    print(f'{key:20}{value:>5}')"
   ]
  },
  {
   "cell_type": "code",
   "execution_count": 28,
   "metadata": {},
   "outputs": [
    {
     "name": "stdout",
     "output_type": "stream",
     "text": [
      "EEG FP1-REF         90.46%\n",
      "EEG FP2-REF         90.46%\n",
      "EEG F3-REF          90.46%\n",
      "EEG F4-REF          90.46%\n",
      "EEG C3-REF          90.46%\n",
      "EEG C4-REF          90.46%\n",
      "EEG P3-REF          90.46%\n",
      "EEG P4-REF          90.46%\n",
      "EEG O1-REF          90.46%\n",
      "EEG O2-REF          90.46%\n",
      "EEG F7-REF          90.46%\n",
      "EEG F8-REF          90.46%\n",
      "EEG T3-REF          90.46%\n",
      "EEG T4-REF          90.46%\n",
      "EEG T5-REF          90.46%\n",
      "EEG T6-REF          90.46%\n",
      "EEG FZ-REF          90.46%\n",
      "EEG CZ-REF          90.46%\n",
      "EEG PZ-REF          90.46%\n",
      "EEG T1-REF          80.86%\n",
      "EEG T2-REF          80.86%\n",
      "IBI                 79.11%\n",
      "BURSTS              79.11%\n",
      "SUPPR               79.11%\n",
      "EEG EKG1-REF        78.84%\n",
      "EEG A1-REF          72.62%\n",
      "EEG A2-REF          72.62%\n",
      "EEG 31-REF          52.17%\n",
      "EEG 32-REF          52.17%\n",
      "EEG C3P-REF         39.79%\n",
      "EEG C4P-REF         39.79%\n",
      "EEG SP1-REF         38.70%\n",
      "EEG SP2-REF         37.13%\n",
      "EMG-REF             28.22%\n",
      "EEG 29-REF          22.26%\n",
      "EEG 30-REF          22.26%\n",
      "EEG ROC-REF         18.86%\n",
      "EEG LOC-REF         18.86%\n",
      "PHOTIC-REF          15.92%\n",
      "EEG 26-REF          14.17%\n",
      "EEG 27-REF          14.17%\n",
      "EEG 28-REF          14.17%\n",
      "EEG FP1-LE           9.54%\n",
      "EEG FP2-LE           9.54%\n",
      "EEG F3-LE            9.54%\n",
      "EEG F4-LE            9.54%\n",
      "EEG C3-LE            9.54%\n",
      "EEG C4-LE            9.54%\n",
      "EEG A1-LE            9.54%\n",
      "EEG A2-LE            9.54%\n",
      "EEG P3-LE            9.54%\n",
      "EEG P4-LE            9.54%\n",
      "EEG O1-LE            9.54%\n",
      "EEG O2-LE            9.54%\n",
      "EEG F7-LE            9.54%\n",
      "EEG F8-LE            9.54%\n",
      "EEG T3-LE            9.54%\n",
      "EEG T4-LE            9.54%\n",
      "EEG T5-LE            9.54%\n",
      "EEG T6-LE            9.54%\n",
      "EEG FZ-LE            9.54%\n",
      "EEG CZ-LE            9.54%\n",
      "EEG PZ-LE            9.54%\n",
      "EEG OZ-LE            9.54%\n",
      "EEG EKG-LE           9.54%\n",
      "EEG 30-LE            9.54%\n",
      "EEG 21-REF           9.39%\n",
      "EEG 22-REF           9.39%\n",
      "EEG 25-REF           9.39%\n",
      "EEG 20-REF           9.30%\n",
      "EEG 23-REF           9.30%\n",
      "EEG 24-REF           9.30%\n",
      "EEG PG1-LE           9.29%\n",
      "EEG PG2-LE           9.29%\n",
      "PHOTIC PH            9.29%\n",
      "EEG 28-LE            8.25%\n",
      "EEG 29-LE            8.25%\n",
      "EEG 26-LE            6.22%\n",
      "EEG 27-LE            6.22%\n",
      "EEG 31-LE            5.97%\n",
      "EEG 32-LE            5.97%\n",
      "DC1-DC               5.60%\n",
      "DC2-DC               5.60%\n",
      "DC3-DC               5.60%\n",
      "DC4-DC               5.60%\n",
      "DC5-DC               5.60%\n",
      "DC6-DC               5.60%\n",
      "DC7-DC               5.60%\n",
      "DC8-DC               5.60%\n",
      "EEG T1-LE            3.57%\n",
      "EEG T2-LE            3.57%\n",
      "EEG SP2-LE           3.32%\n",
      "EEG SP1-LE           3.32%\n",
      "EEG EKG-REF          2.05%\n",
      "EEG LUC-REF          1.96%\n",
      "EEG RLC-REF          1.96%\n",
      "EEG RESP1-REF        1.96%\n",
      "EEG RESP2-REF        1.96%\n",
      "EEG RLC-LE           1.28%\n",
      "EEG LUC-LE           1.28%\n",
      "RESP ABDOMEN-REF     1.23%\n",
      "EEG 33-REF           1.18%\n",
      "EEG 34-REF           1.18%\n",
      "EEG 35-REF           1.18%\n",
      "EEG 36-REF           1.18%\n",
      "EEG 37-REF           1.18%\n",
      "EEG 38-REF           1.18%\n",
      "EEG 39-REF           1.18%\n",
      "EEG 40-REF           1.18%\n",
      "EEG 41-REF           1.18%\n",
      "EEG 42-REF           1.18%\n",
      "EEG 43-REF           1.18%\n",
      "EEG 44-REF           1.18%\n",
      "EEG 45-REF           1.18%\n",
      "EEG 46-REF           1.18%\n",
      "EEG 47-REF           1.18%\n",
      "EEG 48-REF           1.18%\n",
      "EEG 49-REF           1.18%\n",
      "EEG 50-REF           1.18%\n",
      "EEG 51-REF           1.18%\n",
      "EEG 52-REF           1.18%\n",
      "EEG 53-REF           1.18%\n",
      "EEG 54-REF           1.18%\n",
      "EEG 55-REF           1.18%\n",
      "EEG 56-REF           1.18%\n",
      "EEG 57-REF           1.18%\n",
      "EEG 58-REF           1.18%\n",
      "EEG 59-REF           1.18%\n",
      "EEG 60-REF           1.18%\n",
      "EEG 61-REF           1.18%\n",
      "EEG 62-REF           1.18%\n",
      "EEG 63-REF           1.18%\n",
      "EEG 64-REF           1.18%\n",
      "EEG 65-REF           1.18%\n",
      "EEG 66-REF           1.18%\n",
      "EEG 67-REF           1.18%\n",
      "EEG 68-REF           1.18%\n",
      "EEG 69-REF           1.18%\n",
      "EEG 70-REF           1.18%\n",
      "EEG 71-REF           1.18%\n",
      "EEG 72-REF           1.18%\n",
      "EEG 73-REF           1.18%\n",
      "EEG 74-REF           1.18%\n",
      "EEG 75-REF           1.18%\n",
      "EEG 76-REF           1.18%\n",
      "EEG 77-REF           1.18%\n",
      "EEG 78-REF           1.18%\n",
      "EEG 79-REF           1.18%\n",
      "EEG 80-REF           1.18%\n",
      "EEG 81-REF           1.18%\n",
      "EEG 82-REF           1.18%\n",
      "EEG 83-REF           1.18%\n",
      "EEG 84-REF           1.18%\n",
      "EEG 85-REF           1.18%\n",
      "EEG 86-REF           1.18%\n",
      "EEG 87-REF           1.18%\n",
      "EEG 88-REF           1.18%\n",
      "EEG 89-REF           1.18%\n",
      "EEG 90-REF           1.18%\n",
      "EEG 91-REF           1.18%\n",
      "EEG 92-REF           1.18%\n",
      "EEG 93-REF           1.18%\n",
      "EEG 94-REF           1.18%\n",
      "EEG 95-REF           1.18%\n",
      "EEG 96-REF           1.18%\n",
      "EEG 97-REF           1.18%\n",
      "EEG 98-REF           1.18%\n",
      "EEG 99-REF           1.18%\n",
      "EEG 100-REF          1.18%\n",
      "EEG 101-REF          1.18%\n",
      "EEG 102-REF          1.18%\n",
      "EEG 103-REF          1.18%\n",
      "EEG 104-REF          1.18%\n",
      "EEG 105-REF          1.18%\n",
      "EEG 106-REF          1.18%\n",
      "EEG 107-REF          1.18%\n",
      "EEG 108-REF          1.18%\n",
      "EEG 109-REF          1.18%\n",
      "EEG 110-REF          1.18%\n",
      "EEG 111-REF          1.18%\n",
      "EEG 112-REF          1.18%\n",
      "EEG 113-REF          1.18%\n",
      "EEG 114-REF          1.18%\n",
      "EEG 115-REF          1.18%\n",
      "EEG 116-REF          1.18%\n",
      "EEG 117-REF          1.18%\n",
      "EEG 118-REF          1.18%\n",
      "EEG 119-REF          1.18%\n",
      "EEG 120-REF          1.18%\n",
      "EEG 121-REF          1.18%\n",
      "EEG 122-REF          1.18%\n",
      "EEG 123-REF          1.18%\n",
      "EEG 124-REF          1.18%\n",
      "EEG 125-REF          1.18%\n",
      "EEG 126-REF          1.18%\n",
      "EEG 127-REF          1.18%\n",
      "EEG 128-REF          1.18%\n",
      "EDF ANNOTATIONS      1.11%\n",
      "EEG OZ-REF           0.27%\n",
      "ECG EKG-REF          0.27%\n",
      "PULSE RATE           0.27%\n",
      "EEG 23-LE            0.25%\n",
      "EEG 24-LE            0.25%\n"
     ]
    }
   ],
   "source": [
    "for key, value in sorted(channel_names.items(), key=operator.itemgetter(1), reverse=True):\n",
    "    print(f'{key:20}{(value/total_eeg_count)*100:>5.2f}%')"
   ]
  },
  {
   "cell_type": "code",
   "execution_count": null,
   "metadata": {},
   "outputs": [],
   "source": []
  }
 ],
 "metadata": {
  "kernelspec": {
   "display_name": "Python 3",
   "language": "python",
   "name": "python3"
  },
  "language_info": {
   "codemirror_mode": {
    "name": "ipython",
    "version": 3
   },
   "file_extension": ".py",
   "mimetype": "text/x-python",
   "name": "python",
   "nbconvert_exporter": "python",
   "pygments_lexer": "ipython3",
   "version": "3.7.3"
  }
 },
 "nbformat": 4,
 "nbformat_minor": 2
}

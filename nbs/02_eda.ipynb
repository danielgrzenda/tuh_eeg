{
 "cells": [
  {
   "cell_type": "markdown",
   "metadata": {},
   "source": [
    "# Magics, Imports, and Versions"
   ]
  },
  {
   "cell_type": "code",
   "execution_count": 2,
   "metadata": {},
   "outputs": [],
   "source": [
    "%reload_ext autoreload\n",
    "%autoreload 2\n",
    "%matplotlib inline\n",
    "\n",
    "import json\n",
    "import operator\n",
    "from pathlib import Path\n",
    "import pyedflib\n",
    "from subprocess import call\n",
    "import sys\n",
    "import typing\n",
    "import urllib\n",
    "\n",
    "import fastai\n",
    "from fastai.vision import *\n",
    "from fastai.callbacks.hooks import *\n",
    "from fastai.utils.mem import *"
   ]
  },
  {
   "cell_type": "code",
   "execution_count": 3,
   "metadata": {},
   "outputs": [
    {
     "name": "stdout",
     "output_type": "stream",
     "text": [
      "__Python VERSION: 3.7.1 (default, Dec 14 2018, 19:28:38) \n",
      "[GCC 7.3.0]\n",
      "__pyTorch VERSION: 1.0.1.post2\n",
      "__fastai VERSION: 1.0.53.dev0\n",
      "__CUDA VERSION\n",
      "nvcc: NVIDIA (R) Cuda compiler driver\n",
      "Copyright (c) 2005-2018 NVIDIA Corporation\n",
      "Built on Sat_Aug_25_21:08:01_CDT_2018\n",
      "Cuda compilation tools, release 10.0, V10.0.130\n",
      "__CUDNN VERSION: 7402\n",
      "__Number CUDA Devices: 1\n",
      "__Devices\n",
      "Active CUDA Device: GPU 0\n",
      "Available devices: 1\n",
      "Current cuda device 0\n"
     ]
    }
   ],
   "source": [
    "print(f'__Python VERSION: {sys.version}')\n",
    "\n",
    "try:\n",
    "    print(f'__pyTorch VERSION: {torch.__version__}')\n",
    "    PYTORCH = True\n",
    "except: \n",
    "    print(\"Pytorch Not Installed\")\n",
    "    PYTORCH = False\n",
    "\n",
    "try:\n",
    "    print(f'__fastai VERSION: {fastai.__version__}')\n",
    "except:\n",
    "    print(\"fastai Not Installed\")\n",
    "    \n",
    "print('__CUDA VERSION')\n",
    "\n",
    "! nvcc --version\n",
    "\n",
    "if PYTORCH:\n",
    "    print(f'__CUDNN VERSION: {torch.backends.cudnn.version()}')\n",
    "    print(f'__Number CUDA Devices: {torch.cuda.device_count()}')\n",
    "    \n",
    "print(f'__Devices')\n",
    "\n",
    "try:\n",
    "    call([\"nvidia-smi\", \"--format=csv\", \"--query-gpu=index,name,driver_version,memory.total,memory.used,memory.free\"])\n",
    "    print(f'Active CUDA Device: GPU {torch.cuda.current_device()}')\n",
    "\n",
    "    print (f'Available devices: {torch.cuda.device_count()}')\n",
    "    print (f'Current cuda device {torch.cuda.current_device()}')\n",
    "except:\n",
    "    print(\"No GPUs Found\")"
   ]
  },
  {
   "cell_type": "markdown",
   "metadata": {},
   "source": [
    "# Load in Data Dict"
   ]
  },
  {
   "cell_type": "code",
   "execution_count": 4,
   "metadata": {},
   "outputs": [],
   "source": [
    "here = Path(f'{os.getcwd()}')\n",
    "data_path = here.parent/'data'\n",
    "raw_path = data_path/'raw'/'v1.5.0/edf'"
   ]
  },
  {
   "cell_type": "code",
   "execution_count": 5,
   "metadata": {},
   "outputs": [],
   "source": [
    "# load the file back in \n",
    "with open(here.parent/'data_dict.json', 'r') as file:\n",
    "     data_dict = json.load(file)"
   ]
  },
  {
   "cell_type": "code",
   "execution_count": 6,
   "metadata": {},
   "outputs": [
    {
     "data": {
      "text/plain": [
       "[{'date': '2007/09/28',\n",
       "  'session': '002',\n",
       "  'segment': '002',\n",
       "  'total_segments': '003',\n",
       "  'labels': ['bckg'],\n",
       "  'durations': ['256.0000'],\n",
       "  'channels': '41',\n",
       "  'number_obs': '64000',\n",
       "  'sample_rate': '250.0',\n",
       "  'config': 'le',\n",
       "  'type': 'dev_test',\n",
       "  'loc': '/home/jupyter/tuh_eeg/data/raw/v1.5.0/edf/dev_test/02_tcp_le/041/00004151/s002_2007_09_28/00004151_s002_t002.edf',\n",
       "  'label_file': '/home/jupyter/tuh_eeg/data/raw/v1.5.0/edf/dev_test/02_tcp_le/041/00004151/s002_2007_09_28/00004151_s002_t002.tse'},\n",
       " {'date': '2007/09/28',\n",
       "  'session': '002',\n",
       "  'segment': '001',\n",
       "  'total_segments': '003',\n",
       "  'labels': ['bckg'],\n",
       "  'durations': ['490.0000'],\n",
       "  'channels': '41',\n",
       "  'number_obs': '122500',\n",
       "  'sample_rate': '250.0',\n",
       "  'config': 'le',\n",
       "  'type': 'dev_test',\n",
       "  'loc': '/home/jupyter/tuh_eeg/data/raw/v1.5.0/edf/dev_test/02_tcp_le/041/00004151/s002_2007_09_28/00004151_s002_t001.edf',\n",
       "  'label_file': '/home/jupyter/tuh_eeg/data/raw/v1.5.0/edf/dev_test/02_tcp_le/041/00004151/s002_2007_09_28/00004151_s002_t001.tse'},\n",
       " {'date': '2007/09/28',\n",
       "  'session': '002',\n",
       "  'segment': '003',\n",
       "  'total_segments': '003',\n",
       "  'labels': ['bckg'],\n",
       "  'durations': ['443.0000'],\n",
       "  'channels': '41',\n",
       "  'number_obs': '110750',\n",
       "  'sample_rate': '250.0',\n",
       "  'config': 'le',\n",
       "  'type': 'dev_test',\n",
       "  'loc': '/home/jupyter/tuh_eeg/data/raw/v1.5.0/edf/dev_test/02_tcp_le/041/00004151/s002_2007_09_28/00004151_s002_t003.edf',\n",
       "  'label_file': '/home/jupyter/tuh_eeg/data/raw/v1.5.0/edf/dev_test/02_tcp_le/041/00004151/s002_2007_09_28/00004151_s002_t003.tse'},\n",
       " {'date': '2007/09/2',\n",
       "  'session': '001',\n",
       "  'segment': '001',\n",
       "  'total_segments': '001',\n",
       "  'labels': ['bckg', 'fnsz', 'bckg', 'fnsz', 'bckg', 'fnsz', 'bckg'],\n",
       "  'durations': ['57.2880',\n",
       "   '162.7440',\n",
       "   '711.1520',\n",
       "   '836.1520',\n",
       "   '1070.8880',\n",
       "   '1157.0200',\n",
       "   '1423.0000'],\n",
       "  'channels': '41',\n",
       "  'number_obs': '355750',\n",
       "  'sample_rate': '250.0',\n",
       "  'config': 'le',\n",
       "  'type': 'dev_test',\n",
       "  'loc': '/home/jupyter/tuh_eeg/data/raw/v1.5.0/edf/dev_test/02_tcp_le/041/00004151/s001_2007_09_25/00004151_s001_t001.edf',\n",
       "  'label_file': '/home/jupyter/tuh_eeg/data/raw/v1.5.0/edf/dev_test/02_tcp_le/041/00004151/s001_2007_09_25/00004151_s001_t001.tse'}]"
      ]
     },
     "execution_count": 6,
     "metadata": {},
     "output_type": "execute_result"
    }
   ],
   "source": [
    "data_dict['00004151']"
   ]
  },
  {
   "cell_type": "markdown",
   "metadata": {},
   "source": [
    "# Observations per Electrode Config"
   ]
  },
  {
   "cell_type": "code",
   "execution_count": 7,
   "metadata": {},
   "outputs": [],
   "source": [
    "configs = []\n",
    "for key, value in data_dict.items():\n",
    "    for entry in value:\n",
    "        configs.append(entry['config'])"
   ]
  },
  {
   "cell_type": "code",
   "execution_count": 8,
   "metadata": {},
   "outputs": [
    {
     "data": {
      "text/plain": [
       "Counter({'le': 535, 'ar': 4074, 'a': 1001})"
      ]
     },
     "execution_count": 8,
     "metadata": {},
     "output_type": "execute_result"
    }
   ],
   "source": [
    "collections.Counter(configs)"
   ]
  },
  {
   "cell_type": "markdown",
   "metadata": {},
   "source": [
    "## Time per Electrode Config as well"
   ]
  },
  {
   "cell_type": "code",
   "execution_count": 9,
   "metadata": {},
   "outputs": [],
   "source": [
    "configs = defaultdict(list)\n",
    "for key, value in data_dict.items():\n",
    "    for entry in value:\n",
    "        configs[entry['config']].append(float(entry['durations'][-1]))"
   ]
  },
  {
   "cell_type": "code",
   "execution_count": 10,
   "metadata": {},
   "outputs": [
    {
     "name": "stdout",
     "output_type": "stream",
     "text": [
      "a 452039.0\n",
      "ar 2376345.0\n",
      "le 493132.0\n"
     ]
    }
   ],
   "source": [
    "summary = defaultdict()\n",
    "for key, value in sorted(configs.items()):\n",
    "    summary[key] = sum(value)\n",
    "for key, value in summary.items():\n",
    "    print(key, value)"
   ]
  },
  {
   "cell_type": "code",
   "execution_count": 11,
   "metadata": {},
   "outputs": [
    {
     "name": "stdout",
     "output_type": "stream",
     "text": [
      "ar 71.54%\n",
      "le 14.85%\n",
      "a 13.61%\n"
     ]
    }
   ],
   "source": [
    "total = sum(summary.values())\n",
    "for key, value in sorted(summary.items(), key=operator.itemgetter(1), reverse=True):\n",
    "    print(f'{key} {(value/total)*100:.2f}%')"
   ]
  },
  {
   "cell_type": "markdown",
   "metadata": {},
   "source": [
    "# Time Breakdown for each Label"
   ]
  },
  {
   "cell_type": "code",
   "execution_count": 12,
   "metadata": {},
   "outputs": [],
   "source": [
    "time_breakdown = collections.defaultdict(list)\n",
    "for key, value in data_dict.items():\n",
    "    for entry in value:\n",
    "        time_list = zip(entry['labels'], entry['durations'])\n",
    "        last = 0\n",
    "        for label, curr in time_list:\n",
    "            time = float(curr) - last\n",
    "            time_breakdown[label].append(time)\n",
    "            last = float(curr)"
   ]
  },
  {
   "cell_type": "code",
   "execution_count": 13,
   "metadata": {},
   "outputs": [
    {
     "data": {
      "text/plain": [
       "[('absz', 851.9839999999983),\n",
       " ('bckg', 3092339.9311999874),\n",
       " ('cpsz', 35342.824),\n",
       " ('fnsz', 122307.46089999966),\n",
       " ('gnsz', 60024.922299999984),\n",
       " ('mysz', 1312.0),\n",
       " ('spsz', 2145.8244000000004),\n",
       " ('tcsz', 5879.5585),\n",
       " ('tnsz', 1311.4947)]"
      ]
     },
     "execution_count": 13,
     "metadata": {},
     "output_type": "execute_result"
    }
   ],
   "source": [
    "summary = defaultdict()\n",
    "for key, value in time_breakdown.items():\n",
    "    summary[key] = sum(value)\n",
    "\n",
    "sorted(summary.items())"
   ]
  },
  {
   "cell_type": "code",
   "execution_count": 14,
   "metadata": {},
   "outputs": [
    {
     "name": "stdout",
     "output_type": "stream",
     "text": [
      "bckg 93.10%\n",
      "fnsz 3.68%\n",
      "gnsz 1.81%\n",
      "cpsz 1.06%\n",
      "tcsz 0.18%\n",
      "spsz 0.06%\n",
      "mysz 0.04%\n",
      "tnsz 0.04%\n",
      "absz 0.03%\n"
     ]
    }
   ],
   "source": [
    "total = sum(summary.values())\n",
    "\n",
    "for key, value in sorted(summary.items(), key=operator.itemgetter(1), reverse=True):\n",
    "    print(f'{key} {(value/total)*100:.2f}%')"
   ]
  },
  {
   "cell_type": "markdown",
   "metadata": {},
   "source": [
    "# Channel Breakdown"
   ]
  },
  {
   "cell_type": "code",
   "execution_count": 15,
   "metadata": {},
   "outputs": [],
   "source": [
    "time_breakdown = defaultdict(list)\n",
    "for key, value in data_dict.items():\n",
    "    for entry in value:\n",
    "        time_breakdown[int(entry['channels'])].append(float(entry['durations'][-1]))"
   ]
  },
  {
   "cell_type": "code",
   "execution_count": 16,
   "metadata": {},
   "outputs": [
    {
     "data": {
      "text/plain": [
       "[(25, 6007.0),\n",
       " (26, 4079.0),\n",
       " (27, 322983.0),\n",
       " (28, 114145.0),\n",
       " (29, 315438.0),\n",
       " (30, 322669.0),\n",
       " (31, 243163.0),\n",
       " (32, 326016.0),\n",
       " (33, 550259.0),\n",
       " (34, 572917.0),\n",
       " (35, 5879.0),\n",
       " (36, 242326.0),\n",
       " (41, 281907.0),\n",
       " (128, 1250.0),\n",
       " (129, 12478.0)]"
      ]
     },
     "execution_count": 16,
     "metadata": {},
     "output_type": "execute_result"
    }
   ],
   "source": [
    "summary = defaultdict()\n",
    "for key, value in time_breakdown.items():\n",
    "    summary[key]= sum(value)\n",
    "\n",
    "sorted(summary.items())"
   ]
  },
  {
   "cell_type": "code",
   "execution_count": 17,
   "metadata": {},
   "outputs": [
    {
     "name": "stdout",
     "output_type": "stream",
     "text": [
      "34 17.25%\n",
      "33 16.57%\n",
      "32 9.82%\n",
      "27 9.72%\n",
      "30 9.71%\n",
      "29 9.50%\n",
      "41 8.49%\n",
      "31 7.32%\n",
      "36 7.30%\n",
      "28 3.44%\n",
      "129 0.38%\n",
      "25 0.18%\n",
      "35 0.18%\n",
      "26 0.12%\n",
      "128 0.04%\n"
     ]
    }
   ],
   "source": [
    "total = sum(summary.values())\n",
    "\n",
    "for key, value in sorted(summary.items(), key=operator.itemgetter(1), reverse=True):\n",
    "    print(f'{key} {(value/total)*100:.2f}%')"
   ]
  },
  {
   "cell_type": "markdown",
   "metadata": {},
   "source": [
    "# Hertz Breakdown"
   ]
  },
  {
   "cell_type": "code",
   "execution_count": 18,
   "metadata": {},
   "outputs": [
    {
     "data": {
      "text/plain": [
       "dict_items([(250, 1045), (400, 637), (256, 3750), (512, 127), (1000, 51)])"
      ]
     },
     "execution_count": 18,
     "metadata": {},
     "output_type": "execute_result"
    }
   ],
   "source": [
    "hertz = collections.defaultdict(int)\n",
    "for key, value in data_dict.items():\n",
    "    for entry in value:\n",
    "        hertz[int(float(entry['sample_rate']))] += 1\n",
    "hertz.items()"
   ]
  },
  {
   "cell_type": "code",
   "execution_count": 19,
   "metadata": {},
   "outputs": [
    {
     "name": "stdout",
     "output_type": "stream",
     "text": [
      "256 66.84%\n",
      "250 18.63%\n",
      "400 11.35%\n",
      "512 2.26%\n",
      "1000 0.91%\n"
     ]
    }
   ],
   "source": [
    "total_hertz = sum(hertz.values())\n",
    "for key, value in sorted(hertz.items(), key=operator.itemgetter(1), reverse=True):\n",
    "    print(f'{key} {(value/total_hertz)*100:.2f}%')"
   ]
  }
 ],
 "metadata": {
  "kernelspec": {
   "display_name": "Python 3",
   "language": "python",
   "name": "python3"
  },
  "language_info": {
   "codemirror_mode": {
    "name": "ipython",
    "version": 3
   },
   "file_extension": ".py",
   "mimetype": "text/x-python",
   "name": "python",
   "nbconvert_exporter": "python",
   "pygments_lexer": "ipython3",
   "version": "3.7.1"
  }
 },
 "nbformat": 4,
 "nbformat_minor": 2
}

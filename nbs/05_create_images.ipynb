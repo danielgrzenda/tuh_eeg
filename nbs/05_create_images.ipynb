{
 "cells": [
  {
   "cell_type": "markdown",
   "metadata": {},
   "source": [
    "# Magics, Imports, and Versions"
   ]
  },
  {
   "cell_type": "code",
   "execution_count": 1,
   "metadata": {},
   "outputs": [],
   "source": [
    "%reload_ext autoreload\n",
    "%autoreload 2\n",
    "%matplotlib inline"
   ]
  },
  {
   "cell_type": "code",
   "execution_count": 2,
   "metadata": {},
   "outputs": [],
   "source": [
    "import collections\n",
    "import csv\n",
    "import functools\n",
    "import json\n",
    "import matplotlib.pyplot as plt\n",
    "import numpy as np\n",
    "import operator\n",
    "import os\n",
    "from pathlib import Path\n",
    "import PIL\n",
    "import pyedflib\n",
    "import scipy\n",
    "from scipy import signal\n",
    "from subprocess import call\n",
    "import sys\n",
    "import typing\n",
    "import urllib"
   ]
  },
  {
   "cell_type": "code",
   "execution_count": 148,
   "metadata": {},
   "outputs": [],
   "source": [
    "plt.rcParams[\"figure.figsize\"] = (10,10)"
   ]
  },
  {
   "cell_type": "code",
   "execution_count": 149,
   "metadata": {},
   "outputs": [
    {
     "name": "stdout",
     "output_type": "stream",
     "text": [
      "__Python VERSION: 3.7.3 (default, Mar 27 2019, 22:11:17) \n",
      "[GCC 7.3.0]\n",
      "Pytorch Not Installed\n",
      "fastai Not Installed\n",
      "__CUDA VERSION\n",
      "nvcc: NVIDIA (R) Cuda compiler driver\n",
      "Copyright (c) 2005-2018 NVIDIA Corporation\n",
      "Built on Sat_Aug_25_21:08:01_CDT_2018\n",
      "Cuda compilation tools, release 10.0, V10.0.130\n",
      "__Devices\n",
      "No GPUs Found\n"
     ]
    }
   ],
   "source": [
    "print(f'__Python VERSION: {sys.version}')\n",
    "\n",
    "try:\n",
    "    print(f'__pyTorch VERSION: {torch.__version__}')\n",
    "    PYTORCH = True\n",
    "except: \n",
    "    print(\"Pytorch Not Installed\")\n",
    "    PYTORCH = False\n",
    "\n",
    "try:\n",
    "    print(f'__fastai VERSION: {fastai.__version__}')\n",
    "except:\n",
    "    print(\"fastai Not Installed\")\n",
    "    \n",
    "print('__CUDA VERSION')\n",
    "\n",
    "! nvcc --version\n",
    "\n",
    "if PYTORCH:\n",
    "    print(f'__CUDNN VERSION: {torch.backends.cudnn.version()}')\n",
    "    print(f'__Number CUDA Devices: {torch.cuda.device_count()}')\n",
    "    \n",
    "print(f'__Devices')\n",
    "\n",
    "try:\n",
    "    call([\"nvidia-smi\", \"--format=csv\", \"--query-gpu=index,name,driver_version,memory.total,memory.used,memory.free\"])\n",
    "    print(f'Active CUDA Device: GPU {torch.cuda.current_device()}')\n",
    "\n",
    "    print (f'Available devices: {torch.cuda.device_count()}')\n",
    "    print (f'Current cuda device {torch.cuda.current_device()}')\n",
    "except:\n",
    "    print(\"No GPUs Found\")"
   ]
  },
  {
   "cell_type": "markdown",
   "metadata": {},
   "source": [
    "# Path and Dirs"
   ]
  },
  {
   "cell_type": "code",
   "execution_count": 150,
   "metadata": {},
   "outputs": [],
   "source": [
    "here = Path(f'{os.getcwd()}')\n",
    "data_path = here.parent/'data'\n",
    "raw_path = data_path/'raw'/'v1.5.0/edf'\n",
    "with open(here.parent/'data_dict.json', 'r') as file:\n",
    "     data_dict = json.load(file)\n",
    "train_path=raw_path/'train'\n",
    "test_path=raw_path/'dev_test'"
   ]
  },
  {
   "cell_type": "code",
   "execution_count": 151,
   "metadata": {},
   "outputs": [],
   "source": [
    "def ensure_dir(directory):\n",
    "    if not os.path.exists(directory):\n",
    "        print(f'Creating {directory}')\n",
    "        os.makedirs(directory)"
   ]
  },
  {
   "cell_type": "code",
   "execution_count": 152,
   "metadata": {},
   "outputs": [],
   "source": [
    "ensure_dir(data_path/'images/test')\n",
    "img_path = data_path/'images/test'"
   ]
  },
  {
   "cell_type": "markdown",
   "metadata": {},
   "source": [
    "# Math Functions"
   ]
  },
  {
   "cell_type": "code",
   "execution_count": 153,
   "metadata": {},
   "outputs": [],
   "source": [
    "def divergence(array):\n",
    "    \"\"\" compute the divergence of n-D scalar field `F` \"\"\"\n",
    "    return scipy.ndimage.laplace(array)"
   ]
  },
  {
   "cell_type": "code",
   "execution_count": 189,
   "metadata": {},
   "outputs": [],
   "source": [
    "def scale(array):\n",
    "    \"\"\" scale a n-D scalar field to [0-255] range for image creation \"\"\"\n",
    "    return ((array - array.min()) / (array.max() - array.min())) * 255.0"
   ]
  },
  {
   "cell_type": "code",
   "execution_count": 190,
   "metadata": {},
   "outputs": [],
   "source": [
    "def convolve_8NNavg(F):\n",
    "    \"\"\" compute the average of the 8 nearest neighbors for each point in the n-D scalar field `F` \"\"\"\n",
    "    \"\"\" https://gis.stackexchange.com/questions/254753/calculate-the-average-of-neighbor-pixels-for-raster-edge \"\"\"\n",
    "    return scipy.ndimage.generic_filter(F, np.nanmean, size=3, mode='constant', cval=np.NaN)"
   ]
  },
  {
   "cell_type": "code",
   "execution_count": 191,
   "metadata": {},
   "outputs": [],
   "source": [
    "def convolve_8avg(array):\n",
    "    kernel = np.array([[1, 1, 1],[1, 0, 1],[1, 1, 1]])\n",
    "    n = kernel.sum()\n",
    "    return scipy.ndimage.convolve(array, kernel, mode='nearest')/n"
   ]
  },
  {
   "cell_type": "markdown",
   "metadata": {},
   "source": [
    "# Test and Transform"
   ]
  },
  {
   "cell_type": "code",
   "execution_count": 192,
   "metadata": {},
   "outputs": [],
   "source": [
    "filename=str(train_path/'01_tcp_ar/009/00000906/s001_2003_04_23/00000906_s001_t000.edf')"
   ]
  },
  {
   "cell_type": "code",
   "execution_count": 193,
   "metadata": {},
   "outputs": [],
   "source": [
    "CHANNEL_NAMES = ['EEG FP1-REF','EEG FP2-REF','EEG F8-REF','EEG F4-REF','EEG FZ-REF','EEG F3-REF','EEG F7-REF','EEG A1-REF','EEG T3-REF','EEG C3-REF','EEG CZ-REF','EEG C4-REF','EEG T4-REF','EEG A2-REF','EEG T6-REF','EEG P4-REF','EEG PZ-REF','EEG P3-REF','EEG T5-REF','EEG O1-REF','EEG O2-REF']"
   ]
  },
  {
   "cell_type": "code",
   "execution_count": 194,
   "metadata": {},
   "outputs": [],
   "source": [
    "def get_eeg(filename):\n",
    "    f = pyedflib.EdfReader(filename)\n",
    "    n = f.signals_in_file\n",
    "    duration = f.getFileDuration()\n",
    "    signal_labels = f.getSignalLabels()\n",
    "    sigbufs = np.zeros((len(CHANNEL_NAMES), f.getNSamples()[0]))\n",
    "    channel_list = [i for i,ch in enumerate(signal_labels) if ch in CHANNEL_NAMES]\n",
    "    for idx, channel_index in enumerate(channel_list):\n",
    "        sigbufs[idx, :] = f.readSignal(channel_index)\n",
    "    return sigbufs, duration"
   ]
  },
  {
   "cell_type": "code",
   "execution_count": 195,
   "metadata": {},
   "outputs": [
    {
     "data": {
      "text/plain": [
       "328"
      ]
     },
     "execution_count": 195,
     "metadata": {},
     "output_type": "execute_result"
    }
   ],
   "source": [
    "data, duration = get_eeg(filename); duration"
   ]
  },
  {
   "cell_type": "code",
   "execution_count": 196,
   "metadata": {},
   "outputs": [
    {
     "name": "stdout",
     "output_type": "stream",
     "text": [
      "(21, 31488)\n"
     ]
    }
   ],
   "source": [
    "num = duration * 96\n",
    "data = scipy.signal.resample(data, num=num, axis=1)\n",
    "print(data.shape)\n",
    "start_obs = int(2 * 96)\n",
    "end_obs = int(3 * 96)\n",
    "data = data[::,start_obs:end_obs]"
   ]
  },
  {
   "cell_type": "code",
   "execution_count": 197,
   "metadata": {},
   "outputs": [],
   "source": [
    "def prange(*args):\n",
    "    for array in args:\n",
    "        print(array.min(), array.max())"
   ]
  },
  {
   "cell_type": "code",
   "execution_count": 198,
   "metadata": {},
   "outputs": [
    {
     "name": "stdout",
     "output_type": "stream",
     "text": [
      "0.0019114664811041848 9.726771883765513\n",
      "-9.637748690330946 11.41778483454807\n",
      "-2.4488595337681933 3.822675880881654\n",
      "0.0 255.0\n",
      "0.0 255.0\n",
      "0.0 255.0\n",
      "0.0 255.0\n",
      "0.0 255.0\n",
      "0.0 255.0\n"
     ]
    }
   ],
   "source": [
    "data /=  np.linalg.norm(data, axis=1)[:,np.newaxis]\n",
    "S = np.abs(np.fft.fft(data))\n",
    "D = divergence(S)\n",
    "I = convolve_8avg(D)\n",
    "prange(S,D,I)\n",
    "S = scale(S)\n",
    "D = scale(D)\n",
    "I = scale(I)\n",
    "prange(S,D,I)\n",
    "img = np.stack([S,D,I], axis=2)\n",
    "prange(img[...,0], img[...,1], img[...,2])\n",
    "img = PIL.Image.fromarray(img, 'RGB').resize((224,224))\n",
    "img = np.array(img)"
   ]
  },
  {
   "cell_type": "code",
   "execution_count": 199,
   "metadata": {},
   "outputs": [
    {
     "data": {
      "text/plain": [
       "<matplotlib.image.AxesImage at 0x7f01c46d4160>"
      ]
     },
     "execution_count": 199,
     "metadata": {},
     "output_type": "execute_result"
    },
    {
     "data": {
      "image/png": "[encoded data removed]",
      "text/plain": [
       "<Figure size 720x720 with 1 Axes>"
      ]
     },
     "metadata": {
      "needs_background": "light"
     },
     "output_type": "display_data"
    }
   ],
   "source": [
    "plt.imshow(img)"
   ]
  },
  {
   "cell_type": "code",
   "execution_count": 202,
   "metadata": {},
   "outputs": [
    {
     "data": {
      "text/plain": [
       "<matplotlib.image.AxesImage at 0x7f01c4605da0>"
      ]
     },
     "execution_count": 202,
     "metadata": {},
     "output_type": "execute_result"
    },
    {
     "data": {
      "image/png": "[encoded data removed]",
      "text/plain": [
       "<Figure size 720x720 with 1 Axes>"
      ]
     },
     "metadata": {
      "needs_background": "light"
     },
     "output_type": "display_data"
    }
   ],
   "source": [
    "plt.imshow(img[...,2], cmap='gray')"
   ]
  },
  {
   "cell_type": "code",
   "execution_count": null,
   "metadata": {},
   "outputs": [],
   "source": []
  }
 ],
 "metadata": {
  "kernelspec": {
   "display_name": "Python 3",
   "language": "python",
   "name": "python3"
  },
  "language_info": {
   "codemirror_mode": {
    "name": "ipython",
    "version": 3
   },
   "file_extension": ".py",
   "mimetype": "text/x-python",
   "name": "python",
   "nbconvert_exporter": "python",
   "pygments_lexer": "ipython3",
   "version": "3.7.3"
  }
 },
 "nbformat": 4,
 "nbformat_minor": 2
}
